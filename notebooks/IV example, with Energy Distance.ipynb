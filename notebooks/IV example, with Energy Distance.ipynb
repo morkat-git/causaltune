{
 "cells": [
  {
   "cell_type": "code",
   "execution_count": 1,
   "metadata": {
    "pycharm": {
     "name": "#%%\n"
    }
   },
   "outputs": [
    {
     "name": "stderr",
     "output_type": "stream",
     "text": [
      "OMP: Info #276: omp_set_nested routine deprecated, please use omp_set_max_active_levels instead.\n"
     ]
    }
   ],
   "source": [
    "import os\n",
    "import sys\n",
    "import dcor\n",
    "import pandas as pd\n",
    "import warnings\n",
    "from sklearn.model_selection import train_test_split\n",
    "\n",
    "from dowhy import CausalModel\n",
    "\n",
    "root_path = root_path = os.path.realpath('../..')\n",
    "try:\n",
    "    import auto_causality\n",
    "except ModuleNotFoundError:\n",
    "    sys.path.append(os.path.join(root_path, \"auto-causality\"))\n",
    "\n",
    "from auto_causality import AutoCausality\n",
    "from auto_causality.data_utils import preprocess_dataset\n",
    "from auto_causality.scoring import Scorer\n",
    "from auto_causality.datasets import iv_dgp_econml\n",
    "from auto_causality.params import SimpleParamService\n",
    "\n",
    "warnings.filterwarnings(\"ignore\")"
   ]
  },
  {
   "cell_type": "markdown",
   "metadata": {
    "collapsed": false,
    "pycharm": {
     "name": "#%% md\n"
    }
   },
   "source": []
  },
  {
   "cell_type": "markdown",
   "metadata": {
    "collapsed": false,
    "pycharm": {
     "name": "#%% md\n"
    }
   },
   "source": [
    "### Model fitting & scoring"
   ]
  },
  {
   "cell_type": "markdown",
   "metadata": {
    "collapsed": false,
    "pycharm": {
     "name": "#%% md\n"
    }
   },
   "source": [
    "Here we fit a (selection of) model(s) to the data and score them with the energy distance score on held-out data.\n",
    "\n",
    "We create a synthetic dataset and pre-process it with a DGP described [here](https://github.com/microsoft/EconML/blob/main/notebooks/OrthoIV%20and%20DRIV%20Examples.ipynb). The dataset size, number of features and constant true effect, can be varied."
   ]
  },
  {
   "cell_type": "code",
   "execution_count": 2,
   "metadata": {
    "collapsed": false,
    "pycharm": {
     "name": "#%%\n"
    }
   },
   "outputs": [
    {
     "data": {
      "text/html": [
       "<div>\n",
       "<style scoped>\n",
       "    .dataframe tbody tr th:only-of-type {\n",
       "        vertical-align: middle;\n",
       "    }\n",
       "\n",
       "    .dataframe tbody tr th {\n",
       "        vertical-align: top;\n",
       "    }\n",
       "\n",
       "    .dataframe thead th {\n",
       "        text-align: right;\n",
       "    }\n",
       "</style>\n",
       "<table border=\"1\" class=\"dataframe\">\n",
       "  <thead>\n",
       "    <tr style=\"text-align: right;\">\n",
       "      <th></th>\n",
       "      <th>treatment</th>\n",
       "      <th>y</th>\n",
       "      <th>Z</th>\n",
       "      <th>x1</th>\n",
       "      <th>x2</th>\n",
       "      <th>x3</th>\n",
       "      <th>x4</th>\n",
       "      <th>x5</th>\n",
       "      <th>x6</th>\n",
       "      <th>x7</th>\n",
       "      <th>x8</th>\n",
       "      <th>x9</th>\n",
       "      <th>x10</th>\n",
       "      <th>x11</th>\n",
       "      <th>x12</th>\n",
       "      <th>x13</th>\n",
       "      <th>x14</th>\n",
       "      <th>x15</th>\n",
       "      <th>random</th>\n",
       "    </tr>\n",
       "  </thead>\n",
       "  <tbody>\n",
       "    <tr>\n",
       "      <th>938</th>\n",
       "      <td>0.0</td>\n",
       "      <td>3.914192</td>\n",
       "      <td>0.0</td>\n",
       "      <td>0.587055</td>\n",
       "      <td>0.764257</td>\n",
       "      <td>-0.747508</td>\n",
       "      <td>-0.257750</td>\n",
       "      <td>-0.847863</td>\n",
       "      <td>-0.098703</td>\n",
       "      <td>-0.603434</td>\n",
       "      <td>1.004176</td>\n",
       "      <td>-0.664102</td>\n",
       "      <td>-0.448736</td>\n",
       "      <td>-0.033512</td>\n",
       "      <td>0.780575</td>\n",
       "      <td>1.992158</td>\n",
       "      <td>0.155966</td>\n",
       "      <td>0.425341</td>\n",
       "      <td>1.0</td>\n",
       "    </tr>\n",
       "    <tr>\n",
       "      <th>1589</th>\n",
       "      <td>0.0</td>\n",
       "      <td>1.306556</td>\n",
       "      <td>1.0</td>\n",
       "      <td>-0.527349</td>\n",
       "      <td>-1.011669</td>\n",
       "      <td>-0.774687</td>\n",
       "      <td>-0.555224</td>\n",
       "      <td>0.891026</td>\n",
       "      <td>1.839626</td>\n",
       "      <td>-1.306607</td>\n",
       "      <td>-1.280900</td>\n",
       "      <td>-0.646366</td>\n",
       "      <td>-0.966381</td>\n",
       "      <td>-0.332132</td>\n",
       "      <td>-0.308434</td>\n",
       "      <td>-2.266628</td>\n",
       "      <td>1.269205</td>\n",
       "      <td>1.317997</td>\n",
       "      <td>0.0</td>\n",
       "    </tr>\n",
       "    <tr>\n",
       "      <th>2647</th>\n",
       "      <td>1.0</td>\n",
       "      <td>19.935253</td>\n",
       "      <td>1.0</td>\n",
       "      <td>-0.138821</td>\n",
       "      <td>-0.849086</td>\n",
       "      <td>0.370397</td>\n",
       "      <td>-0.532056</td>\n",
       "      <td>-1.056580</td>\n",
       "      <td>1.598664</td>\n",
       "      <td>-0.841640</td>\n",
       "      <td>0.756526</td>\n",
       "      <td>1.336702</td>\n",
       "      <td>0.934166</td>\n",
       "      <td>-2.254221</td>\n",
       "      <td>-0.906043</td>\n",
       "      <td>-1.442950</td>\n",
       "      <td>-0.485301</td>\n",
       "      <td>0.512879</td>\n",
       "      <td>0.0</td>\n",
       "    </tr>\n",
       "    <tr>\n",
       "      <th>305</th>\n",
       "      <td>0.0</td>\n",
       "      <td>6.510473</td>\n",
       "      <td>0.0</td>\n",
       "      <td>-1.816131</td>\n",
       "      <td>-0.025697</td>\n",
       "      <td>1.666074</td>\n",
       "      <td>0.388907</td>\n",
       "      <td>-0.433187</td>\n",
       "      <td>0.133935</td>\n",
       "      <td>-0.826289</td>\n",
       "      <td>-0.982992</td>\n",
       "      <td>-0.246197</td>\n",
       "      <td>-0.046338</td>\n",
       "      <td>-0.196407</td>\n",
       "      <td>-0.539211</td>\n",
       "      <td>-0.719284</td>\n",
       "      <td>1.716316</td>\n",
       "      <td>-0.995706</td>\n",
       "      <td>1.0</td>\n",
       "    </tr>\n",
       "    <tr>\n",
       "      <th>449</th>\n",
       "      <td>1.0</td>\n",
       "      <td>17.317398</td>\n",
       "      <td>1.0</td>\n",
       "      <td>1.006914</td>\n",
       "      <td>1.016560</td>\n",
       "      <td>0.420847</td>\n",
       "      <td>-0.714000</td>\n",
       "      <td>-0.610549</td>\n",
       "      <td>-0.174740</td>\n",
       "      <td>2.360098</td>\n",
       "      <td>2.161623</td>\n",
       "      <td>-0.240828</td>\n",
       "      <td>1.340513</td>\n",
       "      <td>-0.410896</td>\n",
       "      <td>0.836990</td>\n",
       "      <td>1.715416</td>\n",
       "      <td>-0.001117</td>\n",
       "      <td>-1.342481</td>\n",
       "      <td>1.0</td>\n",
       "    </tr>\n",
       "  </tbody>\n",
       "</table>\n",
       "</div>"
      ],
      "text/plain": [
       "      treatment          y    Z        x1        x2        x3        x4  \\\n",
       "938         0.0   3.914192  0.0  0.587055  0.764257 -0.747508 -0.257750   \n",
       "1589        0.0   1.306556  1.0 -0.527349 -1.011669 -0.774687 -0.555224   \n",
       "2647        1.0  19.935253  1.0 -0.138821 -0.849086  0.370397 -0.532056   \n",
       "305         0.0   6.510473  0.0 -1.816131 -0.025697  1.666074  0.388907   \n",
       "449         1.0  17.317398  1.0  1.006914  1.016560  0.420847 -0.714000   \n",
       "\n",
       "            x5        x6        x7        x8        x9       x10       x11  \\\n",
       "938  -0.847863 -0.098703 -0.603434  1.004176 -0.664102 -0.448736 -0.033512   \n",
       "1589  0.891026  1.839626 -1.306607 -1.280900 -0.646366 -0.966381 -0.332132   \n",
       "2647 -1.056580  1.598664 -0.841640  0.756526  1.336702  0.934166 -2.254221   \n",
       "305  -0.433187  0.133935 -0.826289 -0.982992 -0.246197 -0.046338 -0.196407   \n",
       "449  -0.610549 -0.174740  2.360098  2.161623 -0.240828  1.340513 -0.410896   \n",
       "\n",
       "           x12       x13       x14       x15  random  \n",
       "938   0.780575  1.992158  0.155966  0.425341     1.0  \n",
       "1589 -0.308434 -2.266628  1.269205  1.317997     0.0  \n",
       "2647 -0.906043 -1.442950 -0.485301  0.512879     0.0  \n",
       "305  -0.539211 -0.719284  1.716316 -0.995706     1.0  \n",
       "449   0.836990  1.715416 -0.001117 -1.342481     1.0  "
      ]
     },
     "execution_count": 2,
     "metadata": {},
     "output_type": "execute_result"
    }
   ],
   "source": [
    "TE = 11.50\n",
    "data = iv_dgp_econml(n=5000, p=15, true_effect=TE)\n",
    "\n",
    "treatment = data.treatment\n",
    "targets = data.outcomes\n",
    "instruments = data.instruments\n",
    "data_df, features_X, features_W = preprocess_dataset(\n",
    "    data.data, treatment, targets, instruments\n",
    ")\n",
    "\n",
    "outcome = targets[0]\n",
    "train_df, test_df = train_test_split(data_df, test_size=0.2)\n",
    "Xtest = test_df[features_X]\n",
    "train_df.head()"
   ]
  },
  {
   "cell_type": "markdown",
   "metadata": {
    "collapsed": false,
    "pycharm": {
     "name": "#%% md\n"
    }
   },
   "source": [
    "If you want to use specific estimators, pass these as a list to `estimator_list` param in `AutoCausality`. IV estimators are listed in `all_estimators` below.\n",
    "\n",
    "The other allowed values are `all` and `auto`, the default is `auto`.\n",
    "\n",
    "For IV models, currently specify `auto` for propensity model, and instruments when\n",
    "\n",
    "Fitting the model is as simple as calling AutoCausality.fit(), with the only required parameter apart from the data being the `instruments` for IV models.\n",
    "\n"
   ]
  },
  {
   "cell_type": "code",
   "execution_count": null,
   "outputs": [],
   "source": [
    "ac = AutoCausality(\n",
    "    verbose=3,\n",
    "    components_verbose=2,\n",
    "    components_time_budget=300,\n",
    "    propensity_model=\"auto\",\n",
    ")\n",
    "\n",
    "ac.fit(train_df, treatment, outcome, features_W, features_X, instruments)"
   ],
   "metadata": {
    "collapsed": false,
    "pycharm": {
     "name": "#%%\n"
    }
   }
  },
  {
   "cell_type": "code",
   "execution_count": null,
   "outputs": [],
   "source": [
    "ac_estimator_effect = ac.model.estimator.effect(Xtest).mean()"
   ],
   "metadata": {
    "collapsed": false,
    "pycharm": {
     "name": "#%%\n"
    }
   }
  },
  {
   "cell_type": "code",
   "execution_count": null,
   "outputs": [],
   "source": [
    "print(\"(AutoCausality Estimator)\")\n",
    "print(f\"Estimator: {ac.best_estimator}\")\n",
    "print(f\"Config: {ac.best_config}\")\n",
    "print(f\"Energy distance score: {ac.best_score}\")"
   ],
   "metadata": {
    "collapsed": false,
    "pycharm": {
     "name": "#%%\n"
    }
   }
  },
  {
   "cell_type": "markdown",
   "source": [
    "### Baseline Estimators"
   ],
   "metadata": {
    "collapsed": false,
    "pycharm": {
     "name": "#%% md\n"
    }
   }
  },
  {
   "cell_type": "markdown",
   "source": [
    "For comparison, we take the best default configuration of all integrated IV estimators as a baseline, and compare the ATE and energy distance scores, with the best AutoCausality configuration."
   ],
   "metadata": {
    "collapsed": false,
    "pycharm": {
     "name": "#%% md\n"
    }
   }
  },
  {
   "cell_type": "code",
   "execution_count": null,
   "outputs": [],
   "source": [
    "params = SimpleParamService(propensity_model=None, outcome_model=None)\n",
    "iv_estimators = params.estimator_names_from_patterns(\"iv\", \"auto\")"
   ],
   "metadata": {
    "collapsed": false,
    "pycharm": {
     "name": "#%%\n"
    }
   }
  },
  {
   "cell_type": "code",
   "execution_count": null,
   "outputs": [],
   "source": [
    "# Baseline comparisons: IV models with default conigurations\n",
    "baseline_scores = {}\n",
    "for est_name in iv_estimators:\n",
    "    model = CausalModel(\n",
    "        data=train_df,\n",
    "        treatment=treatment,\n",
    "        outcome=outcome[0],\n",
    "        effect_modifiers=features_X,\n",
    "        common_causes=[\"random\"],\n",
    "        instruments=instruments,\n",
    "    )\n",
    "    identified_estimand = model.identify_effect(proceed_when_unidentifiable=True)\n",
    "    estimate = model.estimate_effect(\n",
    "        identified_estimand,\n",
    "        method_name=est_name,\n",
    "        method_params={\n",
    "            \"init_params\": {},\n",
    "            \"fit_params\": {},\n",
    "        },\n",
    "        test_significance=False,\n",
    "    )\n",
    "\n",
    "    base_effect_ = estimate.estimator.effect(Xtest).mean()\n",
    "    base_energy_dist = Scorer.energy_distance_score(estimate, test_df)\n",
    "\n",
    "    baseline_scores[est_name] = {\n",
    "        \"effect\": base_effect_,\n",
    "        \"energy_distance\": base_energy_dist\n",
    "    }\n",
    "\n",
    "baseline_estimator, baseline_metrics = sorted(baseline_scores.items(), key=lambda x: x[1][\"energy_distance\"])[0]\n",
    "\n",
    "print(\"(Best baseline)\")\n",
    "print(\"Estimator: \", baseline_estimator)\n",
    "print(\"Energy distance score: \", baseline_metrics[\"energy_distance\"])\n"
   ],
   "metadata": {
    "collapsed": false,
    "pycharm": {
     "name": "#%%\n"
    }
   }
  },
  {
   "cell_type": "markdown",
   "source": [
    "#### Comparing Treatment Effect"
   ],
   "metadata": {
    "collapsed": false,
    "pycharm": {
     "name": "#%% md\n"
    }
   }
  },
  {
   "cell_type": "code",
   "execution_count": null,
   "outputs": [],
   "source": [
    "print(\"True Treatment Effect  = \", TE)\n",
    "print(\"(Baseline) Treatment Effect: \", baseline_metrics[\"effect\"])\n",
    "print(\"(AutoCausality) Treatment Effect: \", ac_estimator_effect)"
   ],
   "metadata": {
    "collapsed": false,
    "pycharm": {
     "name": "#%%\n"
    }
   }
  },
  {
   "cell_type": "code",
   "execution_count": null,
   "outputs": [],
   "source": [
    "from auto_causality.models import SimpleIV\n",
    "\n",
    "# Needed since ac.model.estimator doesn't include additional params -\n",
    "# treatment, outcome etc. - needed from CausalEstimate instance\n",
    "def energy_scorer_patch(\n",
    "    df: pd.DataFrame,\n",
    "    treatment: str,\n",
    "    outcome: str,\n",
    "    instrument: str,\n",
    "    effect_modifiers: list,\n",
    "    **kwargs\n",
    "):\n",
    "    if \"estimate\" in kwargs.keys():\n",
    "        est = kwargs[\"estimate\"]\n",
    "        if type(est) == SimpleIV:\n",
    "            df[\"dy\"] = est.effect(df[effect_modifiers])\n",
    "        else:\n",
    "            df[\"dy\"] = est.estimator.effect(df[effect_modifiers])\n",
    "    # Compute Energy distance for True & No Effect\n",
    "    elif \"true_effect\" in kwargs.keys() and \"ne\" in kwargs.keys():\n",
    "        df[\"dy\"] = (\n",
    "            [0] * len(df) if kwargs[\"ne\"] is True\n",
    "            else [kwargs[\"true_effect\"]] * len(df)\n",
    "        )\n",
    "\n",
    "    df.loc[df[treatment] == 0, \"dy\"] = 0\n",
    "    df[\"yhat\"] = df[outcome] - df[\"dy\"]\n",
    "\n",
    "    X1 = df[df[instrument] == 1]\n",
    "    X0 = df[df[instrument] == 0]\n",
    "    select_cols = effect_modifiers + [\"yhat\"]\n",
    "\n",
    "    energy_distance_score = dcor.energy_distance(X1[select_cols], X0[select_cols])\n",
    "\n",
    "    return energy_distance_score"
   ],
   "metadata": {
    "collapsed": false,
    "pycharm": {
     "name": "#%%\n"
    }
   }
  },
  {
   "cell_type": "code",
   "execution_count": null,
   "outputs": [],
   "source": [
    "print(\"Energy distance scores\")\n",
    "base_estimator_edist = Scorer.energy_distance_score(estimate, test_df)\n",
    "ac_estimator_edist = energy_scorer_patch(\n",
    "    test_df, treatment, outcome, instruments[0], features_X, estimate=ac.model.estimator\n",
    ")\n",
    "ac_estimator_edist_ne = energy_scorer_patch(\n",
    "    test_df, treatment, outcome, instruments[0], features_X, true_effect=TE, ne=True\n",
    ")\n",
    "ac_estimator_edist_te = energy_scorer_patch(\n",
    "    test_df, treatment, outcome, instruments[0], features_X, true_effect=TE, ne=False\n",
    ")\n",
    "print(\"\\n(Baseline) Energy distance score: \", base_estimator_edist)\n",
    "print(\"(AutoCausality) Energy distance score: \", ac_estimator_edist)\n",
    "print(\"\\n(No Effect) Energy distance score: \", ac_estimator_edist_ne)\n",
    "print(\"(True Effect) Energy distance score: \", ac_estimator_edist_te)"
   ],
   "metadata": {
    "collapsed": false,
    "pycharm": {
     "name": "#%%\n"
    }
   }
  },
  {
   "cell_type": "markdown",
   "source": [
    "## Visualizing Model Interpretability"
   ],
   "metadata": {
    "collapsed": false,
    "pycharm": {
     "name": "#%% md\n"
    }
   }
  },
  {
   "cell_type": "code",
   "execution_count": null,
   "outputs": [],
   "source": [
    "# score all estimators on the test set, which we've kept aside up till now\n",
    "for est_name, scr in ac.scores.items():\n",
    "    causal_estimate = scr['estimator']\n",
    "    scr['scores']['test'] = ac.scorer.make_scores(causal_estimate, test_df, problem=ac.problem, metrics_to_report=ac.metrics_to_report)"
   ],
   "metadata": {
    "collapsed": false,
    "pycharm": {
     "name": "#%%\n"
    }
   }
  },
  {
   "cell_type": "code",
   "execution_count": 6,
   "metadata": {
    "collapsed": false,
    "pycharm": {
     "name": "#%%\n"
    }
   },
   "outputs": [],
   "source": [
    "# score all estimators on the test set, which we've kept aside up till now\n",
    "for est_name, scr in ac.scores.items():\n",
    "    causal_estimate = scr['estimator']\n",
    "    scr['scores']['test'] = ac.scorer.make_scores(causal_estimate, test_df, problem=ac.problem, metrics_to_report=ac.metrics_to_report)"
   ]
  },
  {
   "cell_type": "code",
   "execution_count": 7,
   "metadata": {
    "collapsed": false,
    "pycharm": {
     "name": "#%%\n"
    }
   },
   "outputs": [
    {
     "data": {
      "image/png": "[encoded data removed]",
      "text/plain": [
       "<Figure size 504x360 with 1 Axes>"
      ]
     },
     "metadata": {
      "needs_background": "light"
     },
     "output_type": "display_data"
    }
   ],
   "source": [
    "# Compare all estimator performance\n",
    "\n",
    "%matplotlib inline\n",
    "import matplotlib\n",
    "import numpy as np\n",
    "import matplotlib.pyplot as plt\n",
    "\n",
    "colors = ([matplotlib.colors.CSS4_COLORS['black']] +\n",
    "    list(matplotlib.colors.TABLEAU_COLORS) + [\n",
    "    matplotlib.colors.CSS4_COLORS['lime'],\n",
    "    matplotlib.colors.CSS4_COLORS['yellow'],\n",
    "    matplotlib.colors.CSS4_COLORS['pink']\n",
    "])\n",
    "\n",
    "\n",
    "plt.figure(figsize = (7,5))\n",
    "plt.title(outcome)\n",
    "\n",
    "m1 = \"energy_distance\"\n",
    "\n",
    "for (est, scr), col in zip(ac.scores.items(), colors):\n",
    "    try:\n",
    "        sc = [scr[\"scores\"]['train'][m1], scr[\"scores\"]['validation'][m1], scr[\"scores\"]['test'][m1]]\n",
    "        plt.plot(sc, color=col, marker=\"o\", label=est)\n",
    "        plt.xticks(np.arange(3), ['train', 'val', 'test'])\n",
    "\n",
    "    except:\n",
    "        pass\n",
    "\n",
    "plt.ylabel(m1)\n",
    "plt.legend(bbox_to_anchor=(1.04,1), borderaxespad=0)\n",
    "\n",
    "plt.grid()\n",
    "plt.show()\n"
   ]
  },
  {
   "cell_type": "code",
   "execution_count": 8,
   "metadata": {
    "collapsed": false,
    "pycharm": {
     "name": "#%%\n"
    }
   },
   "outputs": [
    {
     "data": {
      "image/png": "[encoded data removed]",
      "text/plain": [
       "<Figure size 1080x504 with 1 Axes>"
      ]
     },
     "metadata": {
      "needs_background": "light"
     },
     "output_type": "display_data"
    }
   ],
   "source": [
    "# SingleCATE Tree Interpreter\n",
    "scr = ac.scores[ac.best_estimator]\n",
    "intrp = scr[\"scores\"]['validation']['intrp']\n",
    "plt.figure(figsize=(15, 7))\n",
    "intrp.plot(feature_names=intrp.feature_names, fontsize=10)\n",
    "plt.title(f\"{ac.best_estimator}_{outcome}\")\n",
    "plt.show()"
   ]
  },
  {
   "cell_type": "code",
   "execution_count": 9,
   "metadata": {
    "collapsed": false,
    "pycharm": {
     "name": "#%%\n"
    }
   },
   "outputs": [
    {
     "name": "stdout",
     "output_type": "stream",
     "text": [
      "'IVDummy' object has no attribute 'shap_values'\n"
     ]
    },
    {
     "ename": "AttributeError",
     "evalue": "'IVDummy' object has no attribute 'estimator'",
     "output_type": "error",
     "traceback": [
      "\u001B[0;31m---------------------------------------------------------------------------\u001B[0m",
      "\u001B[0;31mAttributeError\u001B[0m                            Traceback (most recent call last)",
      "File \u001B[0;32m~/PycharmProjects/auto-causality/auto_causality/shap.py:10\u001B[0m, in \u001B[0;36mshap_values\u001B[0;34m(estimate, df)\u001B[0m\n\u001B[1;32m      8\u001B[0m \u001B[39mtry\u001B[39;00m:\n\u001B[1;32m      9\u001B[0m     \u001B[39m# this will work on dowhy versions that include https://github.com/microsoft/dowhy/pull/374\u001B[39;00m\n\u001B[0;32m---> 10\u001B[0m     sv \u001B[39m=\u001B[39m estimate\u001B[39m.\u001B[39;49mestimator\u001B[39m.\u001B[39;49mshap_values(nice_df)\n\u001B[1;32m     11\u001B[0m \u001B[39mexcept\u001B[39;00m \u001B[39mException\u001B[39;00m \u001B[39mas\u001B[39;00m e2:\n",
      "\u001B[0;31mAttributeError\u001B[0m: 'IVDummy' object has no attribute 'shap_values'",
      "\nDuring handling of the above exception, another exception occurred:\n",
      "\u001B[0;31mAttributeError\u001B[0m                            Traceback (most recent call last)",
      "\u001B[1;32m/Users/hudson.lekunze/PycharmProjects/auto-causality/notebooks/IV example, with Energy Distance.ipynb Cell 22\u001B[0m in \u001B[0;36m<cell line: 13>\u001B[0;34m()\u001B[0m\n\u001B[1;32m     <a href='vscode-notebook-cell:/Users/hudson.lekunze/PycharmProjects/auto-causality/notebooks/IV%20example%2C%20with%20Energy%20Distance.ipynb#X26sZmlsZQ%3D%3D?line=10'>11</a>\u001B[0m scr \u001B[39m=\u001B[39m ac\u001B[39m.\u001B[39mscores[ac\u001B[39m.\u001B[39mbest_estimator]\n\u001B[1;32m     <a href='vscode-notebook-cell:/Users/hudson.lekunze/PycharmProjects/auto-causality/notebooks/IV%20example%2C%20with%20Energy%20Distance.ipynb#X26sZmlsZQ%3D%3D?line=11'>12</a>\u001B[0m est \u001B[39m=\u001B[39m ac\u001B[39m.\u001B[39mmodel\n\u001B[0;32m---> <a href='vscode-notebook-cell:/Users/hudson.lekunze/PycharmProjects/auto-causality/notebooks/IV%20example%2C%20with%20Energy%20Distance.ipynb#X26sZmlsZQ%3D%3D?line=12'>13</a>\u001B[0m shaps \u001B[39m=\u001B[39m shap_values(est, this_df)\n\u001B[1;32m     <a href='vscode-notebook-cell:/Users/hudson.lekunze/PycharmProjects/auto-causality/notebooks/IV%20example%2C%20with%20Energy%20Distance.ipynb#X26sZmlsZQ%3D%3D?line=14'>15</a>\u001B[0m plt\u001B[39m.\u001B[39mtitle(outcome \u001B[39m+\u001B[39m \u001B[39m'\u001B[39m\u001B[39m_\u001B[39m\u001B[39m'\u001B[39m \u001B[39m+\u001B[39m ac\u001B[39m.\u001B[39mbest_estimator\u001B[39m.\u001B[39msplit(\u001B[39m'\u001B[39m\u001B[39m.\u001B[39m\u001B[39m'\u001B[39m)[\u001B[39m-\u001B[39m\u001B[39m1\u001B[39m])\n\u001B[1;32m     <a href='vscode-notebook-cell:/Users/hudson.lekunze/PycharmProjects/auto-causality/notebooks/IV%20example%2C%20with%20Energy%20Distance.ipynb#X26sZmlsZQ%3D%3D?line=15'>16</a>\u001B[0m shap\u001B[39m.\u001B[39msummary_plot(shaps, this_df[est\u001B[39m.\u001B[39mestimator\u001B[39m.\u001B[39m_effect_modifier_names])\n",
      "File \u001B[0;32m~/PycharmProjects/auto-causality/auto_causality/shap.py:14\u001B[0m, in \u001B[0;36mshap_values\u001B[0;34m(estimate, df)\u001B[0m\n\u001B[1;32m     12\u001B[0m     \u001B[39mprint\u001B[39m(e2)\n\u001B[1;32m     13\u001B[0m     \u001B[39m# fallback for earlier DoWhy versions\u001B[39;00m\n\u001B[0;32m---> 14\u001B[0m     sv \u001B[39m=\u001B[39m estimate\u001B[39m.\u001B[39;49mestimator\u001B[39m.\u001B[39;49mestimator\u001B[39m.\u001B[39mshap_values(nice_df\u001B[39m.\u001B[39mvalues)\n\u001B[1;32m     16\u001B[0m \u001B[39mtry\u001B[39;00m:\n\u001B[1;32m     17\u001B[0m     \u001B[39m# try strip out the nested dict that EconML returns\u001B[39;00m\n\u001B[1;32m     18\u001B[0m     \u001B[39mreturn\u001B[39;00m \u001B[39mlist\u001B[39m(\u001B[39mlist\u001B[39m(sv\u001B[39m.\u001B[39mvalues())[\u001B[39m0\u001B[39m]\u001B[39m.\u001B[39mvalues())[\u001B[39m0\u001B[39m]\n",
      "\u001B[0;31mAttributeError\u001B[0m: 'IVDummy' object has no attribute 'estimator'"
     ]
    }
   ],
   "source": [
    "# Feature importance with SHAP explainer\n",
    "import matplotlib.pyplot as plt\n",
    "import shap\n",
    "\n",
    "# and now let's visualize feature importances!\n",
    "from auto_causality.shap import shap_values\n",
    "\n",
    "# Shapley values calculation can be slow so let's subsample\n",
    "this_df = test_df.sample(100)\n",
    "\n",
    "scr = ac.scores[ac.best_estimator]\n",
    "est = ac.model\n",
    "shaps = shap_values(est, this_df)\n",
    "\n",
    "plt.title(outcome + '_' + ac.best_estimator.split('.')[-1])\n",
    "shap.summary_plot(shaps, this_df[est.estimator._effect_modifier_names])\n",
    "plt.show()"
   ]
  },
  {
   "cell_type": "code",
   "execution_count": null,
   "metadata": {},
   "outputs": [],
   "source": []
  }
 ],
 "metadata": {
  "kernelspec": {
   "display_name": "Python 3.8.9 ('venv': venv)",
   "language": "python",
   "name": "python3"
  },
  "language_info": {
   "codemirror_mode": {
    "name": "ipython",
    "version": 3
   },
   "file_extension": ".py",
   "mimetype": "text/x-python",
   "name": "python",
   "nbconvert_exporter": "python",
   "pygments_lexer": "ipython3",
   "version": "3.8.9"
  },
  "vscode": {
   "interpreter": {
    "hash": "097ab21372014822a933e162c070a8b1f7b350c74f9545016f0c559973f73b9c"
   }
  }
 },
 "nbformat": 4,
 "nbformat_minor": 1
}
{
    "cells": [
        {
            "cell_type": "markdown",
            "metadata": {},
            "source": [
                "# IV estimation with observational data\n",
                "Here, we explore the effectiveness of different scoring metrics in capturing the error between the estimated and true causal effects in small synthetic datasets.    \n",
                "The data is observational (treatment confounded by covariates) and includes an instrumental variable that affects the treatment.  \n",
                "\n",
                "## Background\n",
                "Instrumental Variables (IVs) influence the treatment, but not directly the outcome. An example would be links for marketing campaigns. The IV determines who will receive the links, while the treatment determines who of those would actually click on the link   \n",
                "We divide our approach in different parts. First, we'll generate some synthetic data for which we know the relationship between variables, as well as the treatment effect.   \n",
                "We'll use CausalTune for hyperparameter tuning and model selection of a zoo of causal estimators. We'll do this for different scoring methods.\n",
                "Lastly, we'll plot the returned scores against the misestimation error between predicted and true treatment effect. \n",
                "Below, we import the relevant modules and define a few helper functions (TODO outsource the latter to causaltune, once approved)"
            ]
        },
        {
            "cell_type": "code",
            "execution_count": 5,
            "metadata": {},
            "outputs": [
                {
                    "name": "stdout",
                    "output_type": "stream",
                    "text": [
                        "The autoreload extension is already loaded. To reload it, use:\n",
                        "  %reload_ext autoreload\n"
                    ]
                },
                {
                    "ename": "ImportError",
                    "evalue": "cannot import name 'preprocess_dataset' from 'causaltune.data_utils' (/Users/andrin/Documents/GitHub/causaltuneFORK/causaltune/data_utils.py)",
                    "output_type": "error",
                    "traceback": [
                        "\u001b[0;31m---------------------------------------------------------------------------\u001b[0m",
                        "\u001b[0;31mImportError\u001b[0m                               Traceback (most recent call last)",
                        "Cell \u001b[0;32mIn[5], line 29\u001b[0m\n\u001b[1;32m     27\u001b[0m \u001b[38;5;28;01mfrom\u001b[39;00m \u001b[38;5;21;01msklearn\u001b[39;00m\u001b[38;5;21;01m.\u001b[39;00m\u001b[38;5;21;01mmodel_selection\u001b[39;00m \u001b[38;5;28;01mimport\u001b[39;00m train_test_split\n\u001b[1;32m     28\u001b[0m \u001b[38;5;28;01mfrom\u001b[39;00m \u001b[38;5;21;01mcausaltune\u001b[39;00m \u001b[38;5;28;01mimport\u001b[39;00m CausalTune\n\u001b[0;32m---> 29\u001b[0m \u001b[38;5;28;01mfrom\u001b[39;00m \u001b[38;5;21;01mcausaltune\u001b[39;00m\u001b[38;5;21;01m.\u001b[39;00m\u001b[38;5;21;01mdata_utils\u001b[39;00m \u001b[38;5;28;01mimport\u001b[39;00m preprocess_dataset\n\u001b[1;32m     30\u001b[0m \u001b[38;5;28;01mfrom\u001b[39;00m \u001b[38;5;21;01mcausaltune\u001b[39;00m\u001b[38;5;21;01m.\u001b[39;00m\u001b[38;5;21;01mdatasets\u001b[39;00m \u001b[38;5;28;01mimport\u001b[39;00m generate_synthetic_data\n",
                        "\u001b[0;31mImportError\u001b[0m: cannot import name 'preprocess_dataset' from 'causaltune.data_utils' (/Users/andrin/Documents/GitHub/causaltuneFORK/causaltune/data_utils.py)"
                    ]
                }
            ],
            "source": [
                "%load_ext autoreload\n",
                "%autoreload 2\n",
                "%reload_ext autoreload\n",
                "import os\n",
                "import sys\n",
                "import pickle\n",
                "import numpy as np\n",
                "import pandas as pd\n",
                "import matplotlib.pyplot as plt\n",
                "import warnings\n",
                "warnings.filterwarnings('ignore') # suppress sklearn deprecation warnings for now..\n",
                "try:\n",
                "    import graphviz\n",
                "except ModuleNotFoundError as e:\n",
                "    import pip\n",
                "    pip.main([\"install\",\"graphviz\"])\n",
                "    import graphviz\n",
                "\n",
                "from typing import Union\n",
                "\n",
                "root_path = root_path = os.path.realpath('../../..')\n",
                "try:\n",
                "    import causaltune\n",
                "except ModuleNotFoundError:\n",
                "    sys.path.append(os.path.join(root_path, \"causaltune\"))\n",
                "\n",
                "from sklearn.model_selection import train_test_split\n",
                "from causaltune import CausalTune\n",
                "from causaltune.data_utils import preprocess_dataset\n",
                "from causaltune.datasets import generate_synthetic_data\n"
            ]
        },
        {
            "cell_type": "code",
            "execution_count": null,
            "metadata": {},
            "outputs": [],
            "source": [
                "# set a few params\n",
                "metrics = [\"energy_distance\"] # [\"norm_erupt\", \"qini\", \"r_scorer\"]\n",
                "n_samples = 10000\n",
                "test_size = 0.33 # equal train,val,test\n",
                "components_time_budget = 30\n",
                "estimator_list = \"all\"\n",
                "estimator_list = [\"econml.iv.dml._dml._BaseDMLIV\"]\n",
                "n_runs = 1\n",
                "out_dir = \"\"\n",
                "filename_out = \"synthetic_observational_instrument_\" "
            ]
        },
        {
            "cell_type": "markdown",
            "metadata": {},
            "source": [
                "We will simulate data in which the outcome is influenced by the treatment and a set of covariates, which also affect the treatment. The treatment is influenced by an instrument"
            ]
        },
        {
            "cell_type": "code",
            "execution_count": 2,
            "metadata": {},
            "outputs": [
                {
                    "data": {
                        "image/svg+xml": [
                            "<?xml version=\"1.0\" encoding=\"UTF-8\" standalone=\"no\"?>\n",
                            "<!DOCTYPE svg PUBLIC \"-//W3C//DTD SVG 1.1//EN\"\n",
                            " \"http://www.w3.org/Graphics/SVG/1.1/DTD/svg11.dtd\">\n",
                            "<!-- Generated by graphviz version 6.0.1 (20220911.1526)\n",
                            " -->\n",
                            "<!-- Title: causal&#45;graph Pages: 1 -->\n",
                            "<svg width=\"239pt\" height=\"204pt\"\n",
                            " viewBox=\"0.00 0.00 239.40 204.00\" xmlns=\"http://www.w3.org/2000/svg\" xmlns:xlink=\"http://www.w3.org/1999/xlink\">\n",
                            "<g id=\"graph0\" class=\"graph\" transform=\"scale(1 1) rotate(0) translate(4 200)\">\n",
                            "<title>causal&#45;graph</title>\n",
                            "<polygon fill=\"white\" stroke=\"none\" points=\"-4,4 -4,-200 235.4,-200 235.4,4 -4,4\"/>\n",
                            "<g id=\"clust1\" class=\"cluster\">\n",
                            "<title>cluster_0</title>\n",
                            "<polygon fill=\"none\" stroke=\"white\" points=\"8,-136 8,-188 122,-188 122,-136 8,-136\"/>\n",
                            "</g>\n",
                            "<g id=\"clust2\" class=\"cluster\">\n",
                            "<title>cluster_1</title>\n",
                            "<polygon fill=\"none\" stroke=\"white\" points=\"85,-64 85,-116 195,-116 195,-64 85,-64\"/>\n",
                            "</g>\n",
                            "<!-- X -->\n",
                            "<g id=\"node1\" class=\"node\">\n",
                            "<title>X</title>\n",
                            "<ellipse fill=\"none\" stroke=\"black\" cx=\"65\" cy=\"-162\" rx=\"49.29\" ry=\"18\"/>\n",
                            "<text text-anchor=\"middle\" x=\"65\" y=\"-158.3\" font-family=\"Times New Roman,serif\" font-size=\"14.00\">Covariates</text>\n",
                            "</g>\n",
                            "<!-- Y -->\n",
                            "<g id=\"node2\" class=\"node\">\n",
                            "<title>Y</title>\n",
                            "<ellipse fill=\"none\" stroke=\"black\" cx=\"102\" cy=\"-18\" rx=\"44.39\" ry=\"18\"/>\n",
                            "<text text-anchor=\"middle\" x=\"102\" y=\"-14.3\" font-family=\"Times New Roman,serif\" font-size=\"14.00\">Outcome</text>\n",
                            "</g>\n",
                            "<!-- X&#45;&gt;Y -->\n",
                            "<g id=\"edge1\" class=\"edge\">\n",
                            "<title>X&#45;&gt;Y</title>\n",
                            "<path fill=\"none\" stroke=\"black\" d=\"M66.4,-143.85C68.33,-124.21 72.58,-91.23 81,-64 82.97,-57.62 85.67,-50.99 88.48,-44.83\"/>\n",
                            "<polygon fill=\"black\" stroke=\"black\" points=\"91.71,-46.19 92.89,-35.66 85.4,-43.15 91.71,-46.19\"/>\n",
                            "</g>\n",
                            "<!-- T -->\n",
                            "<g id=\"node3\" class=\"node\">\n",
                            "<title>T</title>\n",
                            "<ellipse fill=\"none\" stroke=\"black\" cx=\"140\" cy=\"-90\" rx=\"47.39\" ry=\"18\"/>\n",
                            "<text text-anchor=\"middle\" x=\"140\" y=\"-86.3\" font-family=\"Times New Roman,serif\" font-size=\"14.00\">Treatment</text>\n",
                            "</g>\n",
                            "<!-- X&#45;&gt;T -->\n",
                            "<g id=\"edge3\" class=\"edge\">\n",
                            "<title>X&#45;&gt;T</title>\n",
                            "<path fill=\"none\" stroke=\"black\" d=\"M82.4,-144.76C92.21,-135.6 104.65,-124 115.44,-113.92\"/>\n",
                            "<polygon fill=\"black\" stroke=\"black\" points=\"118.04,-116.29 122.96,-106.91 113.26,-111.17 118.04,-116.29\"/>\n",
                            "</g>\n",
                            "<!-- T&#45;&gt;Y -->\n",
                            "<g id=\"edge2\" class=\"edge\">\n",
                            "<title>T&#45;&gt;Y</title>\n",
                            "<path fill=\"none\" stroke=\"black\" d=\"M130.8,-72.05C126.37,-63.89 120.95,-53.91 116.02,-44.82\"/>\n",
                            "<polygon fill=\"black\" stroke=\"black\" points=\"118.96,-42.91 111.11,-35.79 112.81,-46.25 118.96,-42.91\"/>\n",
                            "</g>\n",
                            "<!-- I -->\n",
                            "<g id=\"node4\" class=\"node\">\n",
                            "<title>I</title>\n",
                            "<ellipse fill=\"none\" stroke=\"black\" cx=\"182\" cy=\"-162\" rx=\"49.29\" ry=\"18\"/>\n",
                            "<text text-anchor=\"middle\" x=\"182\" y=\"-158.3\" font-family=\"Times New Roman,serif\" font-size=\"14.00\">Instrument</text>\n",
                            "</g>\n",
                            "<!-- I&#45;&gt;T -->\n",
                            "<g id=\"edge4\" class=\"edge\">\n",
                            "<title>I&#45;&gt;T</title>\n",
                            "<path fill=\"none\" stroke=\"black\" d=\"M171.83,-144.05C166.88,-135.8 160.82,-125.7 155.32,-116.54\"/>\n",
                            "<polygon fill=\"black\" stroke=\"black\" points=\"158.22,-114.56 150.07,-107.79 152.22,-118.16 158.22,-114.56\"/>\n",
                            "</g>\n",
                            "</g>\n",
                            "</svg>\n"
                        ],
                        "text/plain": [
                            "<graphviz.graphs.Digraph at 0x23b52814eb0>"
                        ]
                    },
                    "execution_count": 2,
                    "metadata": {},
                    "output_type": "execute_result"
                }
            ],
            "source": [
                "dot = graphviz.Digraph(\"causal-graph\",comment=\"A simple causal graph with confounders\",filename=\"instrumental_variable_graph.gv\")\n",
                "dot.attr(rank=\"same\")\n",
                "with dot.subgraph(name=\"cluster_0\") as c:\n",
                "    c.attr(color=\"white\")\n",
                "    c.node(\"X\",label=\"Covariates\")\n",
                "dot.node(\"Y\",label=\"Outcome\")\n",
                "dot.edge(\"X\",\"Y\")\n",
                "with dot.subgraph(name=\"cluster_1\") as d:\n",
                "    d.attr(color=\"white\")\n",
                "    d.node(\"T\",label=\"Treatment\")\n",
                "dot.edge(\"T\",\"Y\")\n",
                "dot.edge(\"X\",\"T\")\n",
                "dot.node(\"I\",label=\"Instrument\")\n",
                "dot.edge(\"I\",\"T\")\n",
                "dot.edge_attr.update(arrowsize=\"1\")\n",
                "dot"
            ]
        },
        {
            "cell_type": "markdown",
            "metadata": {},
            "source": [
                "### 1.1 Dataset generation"
            ]
        },
        {
            "cell_type": "markdown",
            "metadata": {},
            "source": [
                "Let $X^{Nxd}$ be the matrix of $N$ observations and $d$ covariates, $Z^{nx1}$ the vector of instruments, $T^{nx1}$ the vector of treatment assignments and $Y^{nx1}$ the vector of outcomes.   \n",
                "Let $C^{nx1}$ be the vector of compliers when recommended (when Z=1) and $C0^{nx1}$ the vector of non-compliers when not recommended (when Z==0)\n",
                "\n",
                "We make the following assumptions:  \n",
                "- binary instruments\n",
                "- binary treatments that depend on compliance with instrument\n",
                "- treatment allocation depends on the confounding covariates\n",
                "- five continuous, normally distributed covariates\n",
                "- constant treatment effect (ATE)\n",
                "- independence of the covariates, i.e. $\\Sigma = \\sigma^2I$\n",
                "- no additive noise in the outcomes, i.e. $\\epsilon=0$\n",
                "\n",
                "  \n",
                "Then, the data is generated according to the following equations:\n",
                "\\begin{align*}\n",
                "& X_i \\sim \\mathcal{N}(0,\\Sigma) \\\\\\\\\n",
                "& Z_i \\sim Bernoulli(0.5) \\\\\\\\\n",
                "& C_i \\sim Bernoulli \\left( 0.8 * \\frac{1}{1+exp(X_{i,1} \\otimes X_{i,2} + 3*X_{i,3})} \\right)  \\\\\\\\\n",
                "& C0_i \\sim Bernoulli(0.006) \\\\\\\\\n",
                "& T = C * Z + C0 * (1-Z) \\\\\\\\\n",
                "& Y_i = \\tau(X_i) T_i + \\mu_0(X_i) + \\epsilon\n",
                "\\end{align*}\n",
                "where $i$ indexes individual units, $\\tau$ describes the following true treatment effect, which depends linearly on all covariates:\n",
                "\\begin{equation*}\n",
                "\\tau(X_i) = X_ib^T + e\n",
                "\\end{equation*}\n",
                "where $b$ is a 1xd vector of $b_i \\sim U(0.4,0.7)$ weights for each covariate and $e \\sim \\mathcal{N}(0,0.05)$ gaussian noise.  \n",
                "... and  $\\mu_0(x)$ describes the following transformation of the covariates (to keep things interesting):\n",
                "\\begin{equation*}\n",
                "\\mu_0(X_i) = X_{i,1} \\otimes X_{i,2} + X_{i,3} + X_{i,4} \\otimes X_{i,5} \n",
                "\\end{equation*}\n",
                "\n",
                "\n"
            ]
        },
        {
            "cell_type": "markdown",
            "metadata": {},
            "source": [
                "## 1.2 Preprocessing\n",
                "Now we apply CausalTune's built-in preprocessing pipeline and construct train/val/test sets"
            ]
        },
        {
            "cell_type": "code",
            "execution_count": 2,
            "metadata": {},
            "outputs": [
                {
                    "name": "stdout",
                    "output_type": "stream",
                    "text": [
                        "features_X: ['X1', 'X2', 'X3', 'X4', 'X5', 'instrument']\n",
                        "features_W: ['random']\n"
                    ]
                },
                {
                    "data": {
                        "text/html": [
                            "<div>\n",
                            "<style scoped>\n",
                            "    .dataframe tbody tr th:only-of-type {\n",
                            "        vertical-align: middle;\n",
                            "    }\n",
                            "\n",
                            "    .dataframe tbody tr th {\n",
                            "        vertical-align: top;\n",
                            "    }\n",
                            "\n",
                            "    .dataframe thead th {\n",
                            "        text-align: right;\n",
                            "    }\n",
                            "</style>\n",
                            "<table border=\"1\" class=\"dataframe\">\n",
                            "  <thead>\n",
                            "    <tr style=\"text-align: right;\">\n",
                            "      <th></th>\n",
                            "      <th>treatment</th>\n",
                            "      <th>outcome</th>\n",
                            "      <th>X1</th>\n",
                            "      <th>X2</th>\n",
                            "      <th>X3</th>\n",
                            "      <th>X4</th>\n",
                            "      <th>X5</th>\n",
                            "      <th>true_effect</th>\n",
                            "      <th>instrument</th>\n",
                            "      <th>random</th>\n",
                            "    </tr>\n",
                            "  </thead>\n",
                            "  <tbody>\n",
                            "    <tr>\n",
                            "      <th>0</th>\n",
                            "      <td>0.0</td>\n",
                            "      <td>0.310450</td>\n",
                            "      <td>0.321566</td>\n",
                            "      <td>-0.002646</td>\n",
                            "      <td>0.292278</td>\n",
                            "      <td>0.193829</td>\n",
                            "      <td>0.098143</td>\n",
                            "      <td>0.545479</td>\n",
                            "      <td>0.0</td>\n",
                            "      <td>0.0</td>\n",
                            "    </tr>\n",
                            "    <tr>\n",
                            "      <th>1</th>\n",
                            "      <td>0.0</td>\n",
                            "      <td>0.704427</td>\n",
                            "      <td>-0.028057</td>\n",
                            "      <td>0.526073</td>\n",
                            "      <td>0.789129</td>\n",
                            "      <td>-0.270635</td>\n",
                            "      <td>0.258439</td>\n",
                            "      <td>0.718200</td>\n",
                            "      <td>1.0</td>\n",
                            "      <td>0.0</td>\n",
                            "    </tr>\n",
                            "    <tr>\n",
                            "      <th>2</th>\n",
                            "      <td>0.0</td>\n",
                            "      <td>0.257785</td>\n",
                            "      <td>-0.179442</td>\n",
                            "      <td>-0.514794</td>\n",
                            "      <td>0.221956</td>\n",
                            "      <td>0.170140</td>\n",
                            "      <td>-0.332356</td>\n",
                            "      <td>-0.352991</td>\n",
                            "      <td>0.0</td>\n",
                            "      <td>1.0</td>\n",
                            "    </tr>\n",
                            "    <tr>\n",
                            "      <th>3</th>\n",
                            "      <td>1.0</td>\n",
                            "      <td>-0.937510</td>\n",
                            "      <td>-0.197276</td>\n",
                            "      <td>0.182559</td>\n",
                            "      <td>-0.487816</td>\n",
                            "      <td>-0.173994</td>\n",
                            "      <td>-0.043628</td>\n",
                            "      <td>-0.421270</td>\n",
                            "      <td>1.0</td>\n",
                            "      <td>1.0</td>\n",
                            "    </tr>\n",
                            "    <tr>\n",
                            "      <th>4</th>\n",
                            "      <td>0.0</td>\n",
                            "      <td>0.143018</td>\n",
                            "      <td>-0.200567</td>\n",
                            "      <td>0.061728</td>\n",
                            "      <td>-0.079406</td>\n",
                            "      <td>-0.901427</td>\n",
                            "      <td>-0.260481</td>\n",
                            "      <td>-0.840449</td>\n",
                            "      <td>0.0</td>\n",
                            "      <td>1.0</td>\n",
                            "    </tr>\n",
                            "    <tr>\n",
                            "      <th>5</th>\n",
                            "      <td>0.0</td>\n",
                            "      <td>-0.393860</td>\n",
                            "      <td>-0.666970</td>\n",
                            "      <td>0.427555</td>\n",
                            "      <td>-0.132778</td>\n",
                            "      <td>0.082254</td>\n",
                            "      <td>0.292811</td>\n",
                            "      <td>-0.006324</td>\n",
                            "      <td>0.0</td>\n",
                            "      <td>0.0</td>\n",
                            "    </tr>\n",
                            "    <tr>\n",
                            "      <th>6</th>\n",
                            "      <td>0.0</td>\n",
                            "      <td>0.054023</td>\n",
                            "      <td>-0.387708</td>\n",
                            "      <td>-0.138017</td>\n",
                            "      <td>0.003688</td>\n",
                            "      <td>-0.170617</td>\n",
                            "      <td>0.018612</td>\n",
                            "      <td>-0.430020</td>\n",
                            "      <td>1.0</td>\n",
                            "      <td>0.0</td>\n",
                            "    </tr>\n",
                            "    <tr>\n",
                            "      <th>7</th>\n",
                            "      <td>0.0</td>\n",
                            "      <td>-0.254244</td>\n",
                            "      <td>0.276577</td>\n",
                            "      <td>-0.796773</td>\n",
                            "      <td>-0.061885</td>\n",
                            "      <td>-0.128397</td>\n",
                            "      <td>-0.218151</td>\n",
                            "      <td>-0.543758</td>\n",
                            "      <td>1.0</td>\n",
                            "      <td>0.0</td>\n",
                            "    </tr>\n",
                            "    <tr>\n",
                            "      <th>8</th>\n",
                            "      <td>0.0</td>\n",
                            "      <td>0.239907</td>\n",
                            "      <td>0.143716</td>\n",
                            "      <td>0.070400</td>\n",
                            "      <td>0.248807</td>\n",
                            "      <td>-0.299895</td>\n",
                            "      <td>0.063416</td>\n",
                            "      <td>0.116872</td>\n",
                            "      <td>0.0</td>\n",
                            "      <td>1.0</td>\n",
                            "    </tr>\n",
                            "    <tr>\n",
                            "      <th>9</th>\n",
                            "      <td>0.0</td>\n",
                            "      <td>0.197732</td>\n",
                            "      <td>0.037602</td>\n",
                            "      <td>-0.193960</td>\n",
                            "      <td>0.092252</td>\n",
                            "      <td>0.289970</td>\n",
                            "      <td>0.388911</td>\n",
                            "      <td>0.349242</td>\n",
                            "      <td>0.0</td>\n",
                            "      <td>1.0</td>\n",
                            "    </tr>\n",
                            "  </tbody>\n",
                            "</table>\n",
                            "</div>"
                        ],
                        "text/plain": [
                            "   treatment   outcome        X1        X2        X3        X4        X5  \\\n",
                            "0        0.0  0.310450  0.321566 -0.002646  0.292278  0.193829  0.098143   \n",
                            "1        0.0  0.704427 -0.028057  0.526073  0.789129 -0.270635  0.258439   \n",
                            "2        0.0  0.257785 -0.179442 -0.514794  0.221956  0.170140 -0.332356   \n",
                            "3        1.0 -0.937510 -0.197276  0.182559 -0.487816 -0.173994 -0.043628   \n",
                            "4        0.0  0.143018 -0.200567  0.061728 -0.079406 -0.901427 -0.260481   \n",
                            "5        0.0 -0.393860 -0.666970  0.427555 -0.132778  0.082254  0.292811   \n",
                            "6        0.0  0.054023 -0.387708 -0.138017  0.003688 -0.170617  0.018612   \n",
                            "7        0.0 -0.254244  0.276577 -0.796773 -0.061885 -0.128397 -0.218151   \n",
                            "8        0.0  0.239907  0.143716  0.070400  0.248807 -0.299895  0.063416   \n",
                            "9        0.0  0.197732  0.037602 -0.193960  0.092252  0.289970  0.388911   \n",
                            "\n",
                            "   true_effect  instrument  random  \n",
                            "0     0.545479         0.0     0.0  \n",
                            "1     0.718200         1.0     0.0  \n",
                            "2    -0.352991         0.0     1.0  \n",
                            "3    -0.421270         1.0     1.0  \n",
                            "4    -0.840449         0.0     1.0  \n",
                            "5    -0.006324         0.0     0.0  \n",
                            "6    -0.430020         1.0     0.0  \n",
                            "7    -0.543758         1.0     0.0  \n",
                            "8     0.116872         0.0     1.0  \n",
                            "9     0.349242         0.0     1.0  "
                        ]
                    },
                    "execution_count": 2,
                    "metadata": {},
                    "output_type": "execute_result"
                }
            ],
            "source": [
                "dataset = generate_synthetic_data(n_samples=1000, confounding=True, add_instrument=True)\n",
                "data_df, features_X, features_W = preprocess_dataset(\n",
                "    dataset.data, treatment=dataset.treatment, targets=dataset.outcomes\n",
                ")\n",
                "# drop true effect:\n",
                "features_X = [f for f in features_X if f != \"true_effect\"]\n",
                "print(f\"features_X: {features_X}\")\n",
                "print(f\"features_W: {features_W}\")\n",
                "data_df.head(10)"
            ]
        },
        {
            "cell_type": "markdown",
            "metadata": {},
            "source": [
                "## 1.3 Model fitting\n",
                "Now we're ready to find the best fitting model, given a user-specified metric. As we'd like to compare different metrics, we'll be doing this in a for-loop"
            ]
        },
        {
            "cell_type": "code",
            "execution_count": 6,
            "metadata": {},
            "outputs": [
                {
                    "name": "stderr",
                    "output_type": "stream",
                    "text": [
                        "[flaml.tune.tune: 09-21 09:18:21] {335} WARNING - Using CFO for search. To use BlendSearch, run: pip install flaml[blendsearch]\n",
                        "[flaml.tune.tune: 09-21 09:18:21] {456} INFO - trial 1 config: {'estimator': {'estimator_name': 'iv.econml.iv.dr.LinearDRIV', 'projection': 1}}\n"
                    ]
                },
                {
                    "name": "stdout",
                    "output_type": "stream",
                    "text": [
                        "Fitting a Propensity-Weighted scoring estimator to be used in scoring tasks\n",
                        "Initial configs: [{'estimator': {'estimator_name': 'iv.econml.iv.dr.LinearDRIV', 'projection': True}}, {'estimator': {'estimator_name': 'iv.econml.iv.dml.OrthoIV', 'mc_agg': 'mean'}}, {'estimator': {'estimator_name': 'iv.econml.iv.dml.DMLIV', 'mc_agg': 'mean'}}, {'estimator': {'estimator_name': 'iv.econml.iv.dr.SparseLinearDRIV', 'projection': 0, 'opt_reweighted': 0, 'cov_clip': 0.1}}, {'estimator': {'estimator_name': 'iv.econml.iv.dr.LinearIntentToTreatDRIV', 'cov_clip': 0.1, 'opt_reweighted': 1}}]\n"
                    ]
                },
                {
                    "name": "stderr",
                    "output_type": "stream",
                    "text": [
                        "[flaml.tune.tune: 09-21 09:22:34] {456} INFO - trial 2 config: {'estimator': {'estimator_name': 'iv.econml.iv.dml.OrthoIV', 'mc_agg': 'mean'}}\n",
                        "[flaml.tune.tune: 09-21 09:24:47] {456} INFO - trial 3 config: {'estimator': {'estimator_name': 'iv.econml.iv.dml.DMLIV', 'mc_agg': 'mean'}}\n",
                        "[flaml.tune.tune: 09-21 09:26:47] {456} INFO - trial 4 config: {'estimator': {'estimator_name': 'iv.econml.iv.dr.SparseLinearDRIV', 'projection': 0, 'opt_reweighted': 0, 'cov_clip': 0.1}}\n",
                        "[flaml.tune.tune: 09-21 09:30:49] {456} INFO - trial 5 config: {'estimator': {'estimator_name': 'iv.econml.iv.dr.LinearIntentToTreatDRIV', 'cov_clip': 0.1, 'opt_reweighted': 1}}\n"
                    ]
                }
            ],
            "source": [
                "for i_run in range(1, n_runs+1):\n",
                "\n",
                "    train_df, test_df = train_test_split(data_df, test_size=test_size)\n",
                "    test_df = test_df.reset_index(drop=True)\n",
                "\n",
                "    for i, metric in enumerate(metrics):\n",
                "\n",
                "        ac = CausalTune(\n",
                "            metric=metric,\n",
                "            verbose=1,\n",
                "            components_verbose=1,\n",
                "            components_time_budget=components_time_budget,\n",
                "            estimator_list=estimator_list,\n",
                "        )\n",
                "\n",
                "        ct.fit(\n",
                "            train_df,\n",
                "            treatment=\"treatment\",\n",
                "            outcome=\"outcome\",\n",
                "            instruments=[\"instrument\"],\n",
                "            common_causes=features_W,\n",
                "            effect_modifiers=features_X,\n",
                "        )\n",
                "        scores = {}\n",
                "        # compute relevant scores (skip newdummy)\n",
                "        for est_name, scr in ct.scores.items():\n",
                "            if \"NewDummy\" not in est_name:\n",
                "\n",
                "                causal_estimate = scr[\"estimator\"]\n",
                "\n",
                "                scr[\"scores\"][\"test\"] = ct.scorer.make_scores(\n",
                "                    causal_estimate,\n",
                "                    test_df,\n",
                "                    problem=ct.problem,\n",
                "                    metrics_to_report=ct.metrics_to_report,\n",
                "                )\n",
                "                \n",
                "                # add ground truth for convenience\n",
                "                scr[\"scores\"][\"test\"][\"CATE_groundtruth\"] = test_df[\"true_effect\"]\n",
                "                scr[\"scores\"][\"test\"][\"CATE_est\"] = scr[\"estimator\"].estimator.effect(test_df)\n",
                "                scores[est_name] = scr[\"scores\"][\"test\"]\n",
                "\n",
                "        results = {\n",
                "            \"best_estimator\": ct.best_estimator,\n",
                "            \"best_config\": ct.best_config,\n",
                "            \"best_score\": ct.best_score,\n",
                "            \"optimised_metric\": metric,\n",
                "            \"scores_per_estimator\": scores,\n",
                "        }\n",
                "        with open(f\"{out_dir}{filename_out}_{metric}_run_{i_run}.pkl\", \"wb\") as f:\n",
                "            pickle.dump(results, f)\n",
                "\n"
            ]
        },
        {
            "cell_type": "code",
            "execution_count": 12,
            "metadata": {},
            "outputs": [
                {
                    "data": {
                        "text/plain": [
                            "['ERROR',\n",
                            " 'PAUSED',\n",
                            " 'PENDING',\n",
                            " 'RUNNING',\n",
                            " 'TERMINATED',\n",
                            " '__class__',\n",
                            " '__delattr__',\n",
                            " '__dict__',\n",
                            " '__dir__',\n",
                            " '__doc__',\n",
                            " '__eq__',\n",
                            " '__format__',\n",
                            " '__ge__',\n",
                            " '__getattribute__',\n",
                            " '__gt__',\n",
                            " '__hash__',\n",
                            " '__init__',\n",
                            " '__init_subclass__',\n",
                            " '__le__',\n",
                            " '__lt__',\n",
                            " '__module__',\n",
                            " '__ne__',\n",
                            " '__new__',\n",
                            " '__reduce__',\n",
                            " '__reduce_ex__',\n",
                            " '__repr__',\n",
                            " '__setattr__',\n",
                            " '__sizeof__',\n",
                            " '__str__',\n",
                            " '__subclasshook__',\n",
                            " '__weakref__',\n",
                            " 'config',\n",
                            " 'custom_trial_name',\n",
                            " 'experiment_tag',\n",
                            " 'generate_id',\n",
                            " 'is_finished',\n",
                            " 'last_result',\n",
                            " 'last_update_time',\n",
                            " 'metric_analysis',\n",
                            " 'metric_n_steps',\n",
                            " 'n_steps',\n",
                            " 'result_logger',\n",
                            " 'set_status',\n",
                            " 'start_time',\n",
                            " 'status',\n",
                            " 'trainable_name',\n",
                            " 'trial_id',\n",
                            " 'update_last_result',\n",
                            " 'verbose']"
                        ]
                    },
                    "execution_count": 12,
                    "metadata": {},
                    "output_type": "execute_result"
                }
            ],
            "source": [
                "dir(ct.results.trials[0])"
            ]
        },
        {
            "cell_type": "code",
            "execution_count": 16,
            "metadata": {},
            "outputs": [
                {
                    "data": {
                        "text/plain": [
                            "dict_keys(['energy_distance', 'estimator_name', 'scores', 'config', 'training_iteration', 'config/estimator', 'experiment_tag', 'time_total_s', 'estimator'])"
                        ]
                    },
                    "execution_count": 16,
                    "metadata": {},
                    "output_type": "execute_result"
                }
            ],
            "source": [
                "ct.results.trials[0].last_result.keys()"
            ]
        },
        {
            "cell_type": "markdown",
            "metadata": {},
            "source": [
                "## 1.4 Evaluation\n",
                "How well did the different metrics quantify the mismatch between estimated and true treatment effects?"
            ]
        },
        {
            "cell_type": "code",
            "execution_count": 19,
            "metadata": {},
            "outputs": [
                {
                    "data": {
                        "image/png": "[encoded data removed]",
                        "text/plain": [
                            "<Figure size 432x288 with 1 Axes>"
                        ]
                    },
                    "metadata": {
                        "needs_background": "light"
                    },
                    "output_type": "display_data"
                }
            ],
            "source": [
                "%matplotlib inline\n",
                "import matplotlib\n",
                "import matplotlib.pyplot as plt\n",
                "import matplotlib.ticker as mtick\n",
                "\n",
                "colors = ([matplotlib.colors.CSS4_COLORS['black']] +\n",
                "    list(matplotlib.colors.TABLEAU_COLORS) + [\n",
                "    matplotlib.colors.CSS4_COLORS['lime'],\n",
                "    matplotlib.colors.CSS4_COLORS['yellow'],\n",
                "    matplotlib.colors.CSS4_COLORS['pink']\n",
                "])\n",
                "\n",
                "for metric in [\"energy_distance\"]:\n",
                "    with open(\"../data/synthetic_observational_cate_instrument_\"+metric+\".pkl\",\"rb\") as f:\n",
                "        results = pickle.load(f)\n",
                "    \n",
                "    plt.figure()\n",
                "    \n",
                "    for (est_name, scr), col in zip(ct.scores.items(),colors):\n",
                "        if \"NewDummy\" in est_name:\n",
                "            pass\n",
                "        else:\n",
                "            true_ate = scr[\"scores\"][\"test\"][\"CATE_groundtruth\"]\n",
                "            estimated_ate = scr[\"scores\"][\"test\"][\"CATE_est\"]\n",
                "            mse = np.mean((true_ate-estimated_ate)**2)\n",
                "            plt.scatter(mse,scr[\"scores\"][\"test\"][metric],color=col)\n",
                "    plt.xlabel(\"MSE(cate_hat, cate)\")\n",
                "    plt.ylabel(ct.metric)\n",
                "    plt.legend([k.split(\".\")[-1] for k in ct.scores.keys() if \"NewDummy\" not in k],loc='center left', bbox_to_anchor=(1, 0.5))"
            ]
        },
        {
            "cell_type": "code",
            "execution_count": null,
            "metadata": {},
            "outputs": [],
            "source": []
        }
    ],
    "metadata": {
        "kernelspec": {
            "display_name": "Python 3.9.7 ('causaltune')",
            "language": "python",
            "name": "python3"
        },
        "language_info": {
            "codemirror_mode": {
                "name": "ipython",
                "version": 3
            },
            "file_extension": ".py",
            "mimetype": "text/x-python",
            "name": "python",
            "nbconvert_exporter": "python",
            "pygments_lexer": "ipython3",
            "version": "3.9.18"
        },
        "orig_nbformat": 4,
        "vscode": {
            "interpreter": {
                "hash": "5d738b306ac6f08f90dfb29051c15b9a8f4fea312b55b05a4c05e42fcf3ab44c"
            }
        }
    },
    "nbformat": 4,
    "nbformat_minor": 2
}

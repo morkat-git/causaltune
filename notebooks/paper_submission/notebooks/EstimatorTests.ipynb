{
 "cells": [
  {
   "cell_type": "code",
   "execution_count": null,
   "metadata": {},
   "outputs": [],
   "source": [
    "%load_ext autoreload\n",
    "%autoreload 2\n",
    "import os\n",
    "import sys\n",
    "import pickle\n",
    "import numpy as np\n",
    "import pandas as pd\n",
    "import matplotlib.pyplot as plt\n",
    "\n",
    "import copy \n",
    "\n",
    "import warnings\n",
    "warnings.filterwarnings('ignore') # suppress sklearn deprecation warnings for now..\n",
    "try:\n",
    "    import graphviz\n",
    "except ModuleNotFoundError as e:\n",
    "    import pip\n",
    "    pip.main([\"install\",\"graphviz\"])\n",
    "    import graphviz\n",
    "\n",
    "from typing import Union\n",
    "\n",
    "root_path = root_path = os.path.realpath('../../../..')\n",
    "print(root_path)\n",
    "try:\n",
    "    import causaltune\n",
    "except ModuleNotFoundError:\n",
    "    sys.path.append(os.path.join(root_path, \"causaltune\"))\n",
    "\n",
    "from sklearn.model_selection import train_test_split\n",
    "from causaltune import CausalTune\n",
    "from causaltune.data_utils import CausalityDataset\n",
    "from causaltune.datasets import generate_synthetic_data\n"
   ]
  },
  {
   "cell_type": "code",
   "execution_count": null,
   "metadata": {},
   "outputs": [],
   "source": [
    "\n",
    "metric = \"frobenius_norm\"\n",
    "\n",
    "estimator_list = [\n",
    "               \"Dummy\",\n",
    "               \"SparseLinearDML\",\n",
    "              \"ForestDRLearner\",\n",
    "             \"TransformedOutcome\",\n",
    "              \"CausalForestDML\",\n",
    "               \".LinearDML\",\n",
    "            \"DomainAdaptationLearner\",\n",
    "             \"SLearner\",\n",
    "              \"XLearner\",\n",
    "               \"TLearner\",\n",
    "              \"Ortho\"\n",
    "    ]\n",
    "\n",
    "n_samples = 5000\n",
    "test_size = 0.33 # equal train,val,test\n",
    "components_time_budget = 30\n",
    "#estimator_list = \"metalearners\"\n",
    "n_runs = 1\n",
    "out_dir = \"\"\n",
    "filename_out = \"synthetic_rct_cate_frob_tests\" \n"
   ]
  }
 ],
 "metadata": {
  "language_info": {
   "name": "python"
  }
 },
 "nbformat": 4,
 "nbformat_minor": 2
}

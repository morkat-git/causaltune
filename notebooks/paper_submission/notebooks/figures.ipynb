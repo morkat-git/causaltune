{
 "cells": [
  {
   "cell_type": "code",
   "execution_count": 1,
   "metadata": {},
   "outputs": [],
   "source": [
    "import graphviz"
   ]
  },
  {
   "cell_type": "code",
   "execution_count": 10,
   "metadata": {},
   "outputs": [
    {
     "data": {
      "text/plain": [
       "'rct_cate_graph.gv.pdf'"
      ]
     },
     "execution_count": 10,
     "metadata": {},
     "output_type": "execute_result"
    }
   ],
   "source": [
    "dot = graphviz.Digraph(\"causal-graph\",comment=\"A simple causal graph\",filename=\"rct_cate_graph.gv\")\n",
    "dot.node(\"X\",label=\"Covariates\\n(assumed to be \\nobservable)\")\n",
    "dot.node(\"T\",label=\"Treatment\")\n",
    "dot.node(\"Y\",label=\"Outcome\")\n",
    "dot.edge(\"X\",\"Y\")\n",
    "dot.edge(\"T\",\"Y\")\n",
    "dot.edge_attr.update(arrowsize=\"1\")\n",
    "dot.view()"
   ]
  },
  {
   "cell_type": "code",
   "execution_count": 12,
   "metadata": {},
   "outputs": [
    {
     "data": {
      "text/plain": [
       "'observational_cate_graph.gv.pdf'"
      ]
     },
     "execution_count": 12,
     "metadata": {},
     "output_type": "execute_result"
    }
   ],
   "source": [
    "dot = graphviz.Digraph(\"causal-graph\",comment=\"A simple causal graph with confounders\",filename=\"observational_cate_graph.gv\")\n",
    "dot.attr(rank=\"same\")\n",
    "with dot.subgraph(name=\"cluster_0\") as c:\n",
    "    c.attr(color=\"white\")\n",
    "    c.node(\"X\",label=\"Covariates\\n(assumed to be \\nobservable)\")\n",
    "dot.node(\"Y\",label=\"Outcome\")\n",
    "dot.edge(\"X\",\"Y\")\n",
    "with dot.subgraph(name=\"cluster_1\") as d:\n",
    "    d.attr(color=\"white\")\n",
    "    d.node(\"T\",label=\"Treatment\")\n",
    "dot.edge(\"T\",\"Y\")\n",
    "dot.edge(\"X\",\"T\")\n",
    "dot.edge_attr.update(arrowsize=\"1\")\n",
    "dot.view()"
   ]
  },
  {
   "cell_type": "code",
   "execution_count": 15,
   "metadata": {},
   "outputs": [
    {
     "data": {
      "text/plain": [
       "'instrumental_variable_graph.gv.pdf'"
      ]
     },
     "execution_count": 15,
     "metadata": {},
     "output_type": "execute_result"
    }
   ],
   "source": [
    "dot = graphviz.Digraph(\"causal-graph\",comment=\"A simple causal graph with confounders\",filename=\"instrumental_variable_graph.gv\")\n",
    "dot.attr(rank=\"same\")\n",
    "with dot.subgraph(name=\"cluster_0\") as c:\n",
    "    c.attr(color=\"white\")\n",
    "    c.node(\"X\",label=\"Covariates (some \\nunobservable)\")\n",
    "dot.node(\"Y\",label=\"Outcome\")\n",
    "dot.edge(\"X\",\"Y\")\n",
    "with dot.subgraph(name=\"cluster_1\") as d:\n",
    "    d.attr(color=\"white\")\n",
    "    d.node(\"T\",label=\"Treatment \\n(Customer chooses \\nto use feature)\")\n",
    "dot.edge(\"T\",\"Y\")\n",
    "dot.edge(\"X\",\"T\")\n",
    "dot.node(\"I\",label=\"Instrument (Access to \\nproduct feature)\")\n",
    "dot.edge(\"I\",\"T\")\n",
    "dot.edge_attr.update(arrowsize=\"1\")\n",
    "dot.view()"
   ]
  },
  {
   "cell_type": "code",
   "execution_count": null,
   "metadata": {},
   "outputs": [],
   "source": []
  }
 ],
 "metadata": {
  "kernelspec": {
   "display_name": "Python 3 (ipykernel)",
   "language": "python",
   "name": "python3"
  },
  "language_info": {
   "codemirror_mode": {
    "name": "ipython",
    "version": 3
   },
   "file_extension": ".py",
   "mimetype": "text/x-python",
   "name": "python",
   "nbconvert_exporter": "python",
   "pygments_lexer": "ipython3",
   "version": "3.10.4"
  },
  "vscode": {
   "interpreter": {
    "hash": "5d738b306ac6f08f90dfb29051c15b9a8f4fea312b55b05a4c05e42fcf3ab44c"
   }
  }
 },
 "nbformat": 4,
 "nbformat_minor": 2
}

{
 "cells": [
  {
   "attachments": {},
   "cell_type": "markdown",
   "id": "a34f30c6",
   "metadata": {
    "pycharm": {
     "name": "#%% md\n"
    }
   },
   "source": [
    "# Random assignment, binary CATE example\n",
    "\n",
    "This is a fully worked-out notebook showing how you would apply `CausalTune` to a dataset."
   ]
  },
  {
   "cell_type": "code",
   "execution_count": 1,
   "id": "b6eaac69",
   "metadata": {
    "pycharm": {
     "name": "#%%\n"
    }
   },
   "outputs": [
    {
     "name": "stderr",
     "output_type": "stream",
     "text": [
      "OMP: Info #276: omp_set_nested routine deprecated, please use omp_set_max_active_levels instead.\n"
     ]
    }
   ],
   "source": [
    "%load_ext autoreload\n",
    "%autoreload 2\n",
    "import os, sys\n",
    "import warnings\n",
    "warnings.filterwarnings('ignore') # suppress sklearn deprecation warnings for now..\n",
    "\n",
    "import pandas as pd\n",
    "import numpy as np\n",
    "from sklearn.model_selection import train_test_split\n",
    "\n",
    "# the below checks for whether we run dowhy, causaltune, and FLAML from source\n",
    "root_path = root_path = os.path.realpath('../..')\n",
    "try:\n",
    "    import causaltune\n",
    "except ModuleNotFoundError:\n",
    "    sys.path.append(os.path.join(root_path, \"causaltune\"))\n",
    "\n",
    "try:\n",
    "    import dowhy\n",
    "except ModuleNotFoundError:\n",
    "    sys.path.append(os.path.join(root_path, \"dowhy\"))\n",
    "\n",
    "try:\n",
    "    import flaml\n",
    "except ModuleNotFoundError:\n",
    "    sys.path.append(os.path.join(root_path, \"FLAML\"))\n"
   ]
  },
  {
   "cell_type": "code",
   "execution_count": 2,
   "id": "53241021",
   "metadata": {
    "pycharm": {
     "name": "#%%\n"
    }
   },
   "outputs": [
    {
     "data": {
      "text/html": [
       "<style>.container { width:100% !important; }</style>"
      ],
      "text/plain": [
       "<IPython.core.display.HTML object>"
      ]
     },
     "metadata": {},
     "output_type": "display_data"
    }
   ],
   "source": [
    "# this makes the notebook expand to full width of the browser window\n",
    "from IPython.core.display import display, HTML\n",
    "display(HTML(\"<style>.container { width:100% !important; }</style>\"))"
   ]
  },
  {
   "cell_type": "code",
   "execution_count": 3,
   "id": "5ed9b5f7",
   "metadata": {
    "pycharm": {
     "name": "#%%\n"
    }
   },
   "outputs": [
    {
     "data": {
      "application/javascript": "\n// turn off scrollable windows for large output\nIPython.OutputArea.prototype._should_scroll = function(lines) {\n    return false;\n}\n",
      "text/plain": [
       "<IPython.core.display.Javascript object>"
      ]
     },
     "metadata": {},
     "output_type": "display_data"
    }
   ],
   "source": [
    "%%javascript\n",
    "\n",
    "// turn off scrollable windows for large output\n",
    "IPython.OutputArea.prototype._should_scroll = function(lines) {\n",
    "    return false;\n",
    "}"
   ]
  },
  {
   "cell_type": "code",
   "execution_count": 4,
   "id": "da208ce6",
   "metadata": {
    "pycharm": {
     "name": "#%%\n"
    }
   },
   "outputs": [],
   "source": [
    "from causaltune import CausalTune\n",
    "from causaltune.datasets import synth_ihdp\n",
    "from causaltune.data_utils import CausalityDataset"
   ]
  },
  {
   "attachments": {},
   "cell_type": "markdown",
   "id": "b637c532",
   "metadata": {
    "pycharm": {
     "name": "#%% md\n"
    }
   },
   "source": [
    "### Model fitting & scoring\n",
    "Here we fit a (selection of) model(s) to the data and score them with the energy distance metric on held-out data.\n",
    "\n",
    "We import an example dataset and pre-process it. The pre-processing fills in the NaNs and one-hot-encodes all categorical and int variables.\n",
    "\n",
    "If you don't want an int variable to be one-hot-encoded, please cast it to float before preprocessing."
   ]
  },
  {
   "cell_type": "code",
   "execution_count": 5,
   "id": "96719b4d",
   "metadata": {},
   "outputs": [
    {
     "data": {
      "text/html": [
       "<div>\n",
       "<style scoped>\n",
       "    .dataframe tbody tr th:only-of-type {\n",
       "        vertical-align: middle;\n",
       "    }\n",
       "\n",
       "    .dataframe tbody tr th {\n",
       "        vertical-align: top;\n",
       "    }\n",
       "\n",
       "    .dataframe thead th {\n",
       "        text-align: right;\n",
       "    }\n",
       "</style>\n",
       "<table border=\"1\" class=\"dataframe\">\n",
       "  <thead>\n",
       "    <tr style=\"text-align: right;\">\n",
       "      <th></th>\n",
       "      <th>treatment</th>\n",
       "      <th>y_factual</th>\n",
       "      <th>x1</th>\n",
       "      <th>x2</th>\n",
       "      <th>x3</th>\n",
       "      <th>x4</th>\n",
       "      <th>x5</th>\n",
       "      <th>x6</th>\n",
       "      <th>x7</th>\n",
       "      <th>x8</th>\n",
       "      <th>...</th>\n",
       "      <th>x16</th>\n",
       "      <th>x17</th>\n",
       "      <th>x18</th>\n",
       "      <th>x19</th>\n",
       "      <th>x20</th>\n",
       "      <th>x21</th>\n",
       "      <th>x22</th>\n",
       "      <th>x23</th>\n",
       "      <th>x24</th>\n",
       "      <th>x25</th>\n",
       "    </tr>\n",
       "  </thead>\n",
       "  <tbody>\n",
       "    <tr>\n",
       "      <th>0</th>\n",
       "      <td>1</td>\n",
       "      <td>5.599916</td>\n",
       "      <td>-0.528603</td>\n",
       "      <td>-0.343455</td>\n",
       "      <td>1.128554</td>\n",
       "      <td>0.161703</td>\n",
       "      <td>-0.316603</td>\n",
       "      <td>1.295216</td>\n",
       "      <td>1</td>\n",
       "      <td>0</td>\n",
       "      <td>...</td>\n",
       "      <td>1</td>\n",
       "      <td>1</td>\n",
       "      <td>1</td>\n",
       "      <td>1</td>\n",
       "      <td>0</td>\n",
       "      <td>0</td>\n",
       "      <td>0</td>\n",
       "      <td>0</td>\n",
       "      <td>0</td>\n",
       "      <td>0</td>\n",
       "    </tr>\n",
       "    <tr>\n",
       "      <th>1</th>\n",
       "      <td>0</td>\n",
       "      <td>6.875856</td>\n",
       "      <td>-1.736945</td>\n",
       "      <td>-1.802002</td>\n",
       "      <td>0.383828</td>\n",
       "      <td>2.244320</td>\n",
       "      <td>-0.629189</td>\n",
       "      <td>1.295216</td>\n",
       "      <td>0</td>\n",
       "      <td>0</td>\n",
       "      <td>...</td>\n",
       "      <td>1</td>\n",
       "      <td>1</td>\n",
       "      <td>1</td>\n",
       "      <td>1</td>\n",
       "      <td>0</td>\n",
       "      <td>0</td>\n",
       "      <td>0</td>\n",
       "      <td>0</td>\n",
       "      <td>0</td>\n",
       "      <td>0</td>\n",
       "    </tr>\n",
       "    <tr>\n",
       "      <th>2</th>\n",
       "      <td>0</td>\n",
       "      <td>2.996273</td>\n",
       "      <td>-0.807451</td>\n",
       "      <td>-0.202946</td>\n",
       "      <td>-0.360898</td>\n",
       "      <td>-0.879606</td>\n",
       "      <td>0.808706</td>\n",
       "      <td>-0.526556</td>\n",
       "      <td>0</td>\n",
       "      <td>0</td>\n",
       "      <td>...</td>\n",
       "      <td>1</td>\n",
       "      <td>0</td>\n",
       "      <td>1</td>\n",
       "      <td>1</td>\n",
       "      <td>0</td>\n",
       "      <td>0</td>\n",
       "      <td>0</td>\n",
       "      <td>0</td>\n",
       "      <td>0</td>\n",
       "      <td>0</td>\n",
       "    </tr>\n",
       "    <tr>\n",
       "      <th>3</th>\n",
       "      <td>0</td>\n",
       "      <td>1.366206</td>\n",
       "      <td>0.390083</td>\n",
       "      <td>0.596582</td>\n",
       "      <td>-1.850350</td>\n",
       "      <td>-0.879606</td>\n",
       "      <td>-0.004017</td>\n",
       "      <td>-0.857787</td>\n",
       "      <td>0</td>\n",
       "      <td>0</td>\n",
       "      <td>...</td>\n",
       "      <td>1</td>\n",
       "      <td>0</td>\n",
       "      <td>1</td>\n",
       "      <td>1</td>\n",
       "      <td>0</td>\n",
       "      <td>0</td>\n",
       "      <td>0</td>\n",
       "      <td>0</td>\n",
       "      <td>0</td>\n",
       "      <td>0</td>\n",
       "    </tr>\n",
       "    <tr>\n",
       "      <th>4</th>\n",
       "      <td>0</td>\n",
       "      <td>1.963538</td>\n",
       "      <td>-1.045229</td>\n",
       "      <td>-0.602710</td>\n",
       "      <td>0.011465</td>\n",
       "      <td>0.161703</td>\n",
       "      <td>0.683672</td>\n",
       "      <td>-0.360940</td>\n",
       "      <td>1</td>\n",
       "      <td>0</td>\n",
       "      <td>...</td>\n",
       "      <td>1</td>\n",
       "      <td>1</td>\n",
       "      <td>1</td>\n",
       "      <td>1</td>\n",
       "      <td>0</td>\n",
       "      <td>0</td>\n",
       "      <td>0</td>\n",
       "      <td>0</td>\n",
       "      <td>0</td>\n",
       "      <td>0</td>\n",
       "    </tr>\n",
       "  </tbody>\n",
       "</table>\n",
       "<p>5 rows × 27 columns</p>\n",
       "</div>"
      ],
      "text/plain": [
       "   treatment  y_factual        x1        x2        x3        x4        x5  \\\n",
       "0          1   5.599916 -0.528603 -0.343455  1.128554  0.161703 -0.316603   \n",
       "1          0   6.875856 -1.736945 -1.802002  0.383828  2.244320 -0.629189   \n",
       "2          0   2.996273 -0.807451 -0.202946 -0.360898 -0.879606  0.808706   \n",
       "3          0   1.366206  0.390083  0.596582 -1.850350 -0.879606 -0.004017   \n",
       "4          0   1.963538 -1.045229 -0.602710  0.011465  0.161703  0.683672   \n",
       "\n",
       "         x6  x7  x8  ...  x16  x17  x18  x19  x20  x21  x22  x23  x24  x25  \n",
       "0  1.295216   1   0  ...    1    1    1    1    0    0    0    0    0    0  \n",
       "1  1.295216   0   0  ...    1    1    1    1    0    0    0    0    0    0  \n",
       "2 -0.526556   0   0  ...    1    0    1    1    0    0    0    0    0    0  \n",
       "3 -0.857787   0   0  ...    1    0    1    1    0    0    0    0    0    0  \n",
       "4 -0.360940   1   0  ...    1    1    1    1    0    0    0    0    0    0  \n",
       "\n",
       "[5 rows x 27 columns]"
      ]
     },
     "metadata": {},
     "output_type": "display_data"
    }
   ],
   "source": [
    "# load toy dataset\n",
    "df = synth_ihdp(return_df=True)\n",
    "display(df.head())"
   ]
  },
  {
   "cell_type": "code",
   "execution_count": 6,
   "id": "1d689b4c",
   "metadata": {},
   "outputs": [],
   "source": [
    "# split-off a hold-out set\n",
    "hold_out = df.sample(frac=0.2)\n",
    "train = df.drop(hold_out.index)"
   ]
  },
  {
   "cell_type": "code",
   "execution_count": 7,
   "id": "0c4ddb37",
   "metadata": {},
   "outputs": [],
   "source": [
    "# apply standard pre-processing to train set\n",
    "cd = CausalityDataset(data=train, treatment='treatment', outcomes=['y_factual'])\n",
    "cd.preprocess_dataset()"
   ]
  },
  {
   "attachments": {},
   "cell_type": "markdown",
   "id": "a12303d6",
   "metadata": {},
   "source": [
    "Inspecting the dataset below, we can see that the causal inference problem is defined by a binary `treatment`, a continuous outcome `y_factual`, and a range of covariates `x_{i}`. The `random` column is added to bypass a DoWhy bug."
   ]
  },
  {
   "cell_type": "code",
   "execution_count": 8,
   "id": "49e4721b",
   "metadata": {
    "pycharm": {
     "name": "#%%\n"
    }
   },
   "outputs": [
    {
     "data": {
      "text/html": [
       "<div>\n",
       "<style scoped>\n",
       "    .dataframe tbody tr th:only-of-type {\n",
       "        vertical-align: middle;\n",
       "    }\n",
       "\n",
       "    .dataframe tbody tr th {\n",
       "        vertical-align: top;\n",
       "    }\n",
       "\n",
       "    .dataframe thead th {\n",
       "        text-align: right;\n",
       "    }\n",
       "</style>\n",
       "<table border=\"1\" class=\"dataframe\">\n",
       "  <thead>\n",
       "    <tr style=\"text-align: right;\">\n",
       "      <th></th>\n",
       "      <th>treatment</th>\n",
       "      <th>y_factual</th>\n",
       "      <th>random</th>\n",
       "      <th>x1</th>\n",
       "      <th>x2</th>\n",
       "      <th>x3</th>\n",
       "      <th>x4</th>\n",
       "      <th>x5</th>\n",
       "      <th>x6</th>\n",
       "      <th>x7</th>\n",
       "      <th>...</th>\n",
       "      <th>x16</th>\n",
       "      <th>x17</th>\n",
       "      <th>x18</th>\n",
       "      <th>x19</th>\n",
       "      <th>x20</th>\n",
       "      <th>x21</th>\n",
       "      <th>x22</th>\n",
       "      <th>x23</th>\n",
       "      <th>x24</th>\n",
       "      <th>x25</th>\n",
       "    </tr>\n",
       "  </thead>\n",
       "  <tbody>\n",
       "    <tr>\n",
       "      <th>0</th>\n",
       "      <td>1</td>\n",
       "      <td>5.599916</td>\n",
       "      <td>1.0</td>\n",
       "      <td>-0.528603</td>\n",
       "      <td>-0.343455</td>\n",
       "      <td>1.128554</td>\n",
       "      <td>0.161703</td>\n",
       "      <td>-0.316603</td>\n",
       "      <td>1.295216</td>\n",
       "      <td>1.0</td>\n",
       "      <td>...</td>\n",
       "      <td>1.0</td>\n",
       "      <td>1.0</td>\n",
       "      <td>1.0</td>\n",
       "      <td>1.0</td>\n",
       "      <td>0.0</td>\n",
       "      <td>0.0</td>\n",
       "      <td>0.0</td>\n",
       "      <td>0.0</td>\n",
       "      <td>0.0</td>\n",
       "      <td>0.0</td>\n",
       "    </tr>\n",
       "    <tr>\n",
       "      <th>1</th>\n",
       "      <td>0</td>\n",
       "      <td>6.875856</td>\n",
       "      <td>0.0</td>\n",
       "      <td>-1.736945</td>\n",
       "      <td>-1.802002</td>\n",
       "      <td>0.383828</td>\n",
       "      <td>2.244319</td>\n",
       "      <td>-0.629189</td>\n",
       "      <td>1.295216</td>\n",
       "      <td>0.0</td>\n",
       "      <td>...</td>\n",
       "      <td>1.0</td>\n",
       "      <td>1.0</td>\n",
       "      <td>1.0</td>\n",
       "      <td>1.0</td>\n",
       "      <td>0.0</td>\n",
       "      <td>0.0</td>\n",
       "      <td>0.0</td>\n",
       "      <td>0.0</td>\n",
       "      <td>0.0</td>\n",
       "      <td>0.0</td>\n",
       "    </tr>\n",
       "    <tr>\n",
       "      <th>2</th>\n",
       "      <td>0</td>\n",
       "      <td>2.996273</td>\n",
       "      <td>1.0</td>\n",
       "      <td>-0.807451</td>\n",
       "      <td>-0.202946</td>\n",
       "      <td>-0.360898</td>\n",
       "      <td>-0.879606</td>\n",
       "      <td>0.808706</td>\n",
       "      <td>-0.526556</td>\n",
       "      <td>0.0</td>\n",
       "      <td>...</td>\n",
       "      <td>1.0</td>\n",
       "      <td>0.0</td>\n",
       "      <td>1.0</td>\n",
       "      <td>1.0</td>\n",
       "      <td>0.0</td>\n",
       "      <td>0.0</td>\n",
       "      <td>0.0</td>\n",
       "      <td>0.0</td>\n",
       "      <td>0.0</td>\n",
       "      <td>0.0</td>\n",
       "    </tr>\n",
       "    <tr>\n",
       "      <th>3</th>\n",
       "      <td>0</td>\n",
       "      <td>1.366206</td>\n",
       "      <td>1.0</td>\n",
       "      <td>0.390083</td>\n",
       "      <td>0.596582</td>\n",
       "      <td>-1.850350</td>\n",
       "      <td>-0.879606</td>\n",
       "      <td>-0.004017</td>\n",
       "      <td>-0.857787</td>\n",
       "      <td>0.0</td>\n",
       "      <td>...</td>\n",
       "      <td>1.0</td>\n",
       "      <td>0.0</td>\n",
       "      <td>1.0</td>\n",
       "      <td>1.0</td>\n",
       "      <td>0.0</td>\n",
       "      <td>0.0</td>\n",
       "      <td>0.0</td>\n",
       "      <td>0.0</td>\n",
       "      <td>0.0</td>\n",
       "      <td>0.0</td>\n",
       "    </tr>\n",
       "    <tr>\n",
       "      <th>4</th>\n",
       "      <td>0</td>\n",
       "      <td>1.963538</td>\n",
       "      <td>0.0</td>\n",
       "      <td>-1.045228</td>\n",
       "      <td>-0.602710</td>\n",
       "      <td>0.011465</td>\n",
       "      <td>0.161703</td>\n",
       "      <td>0.683672</td>\n",
       "      <td>-0.360940</td>\n",
       "      <td>1.0</td>\n",
       "      <td>...</td>\n",
       "      <td>1.0</td>\n",
       "      <td>1.0</td>\n",
       "      <td>1.0</td>\n",
       "      <td>1.0</td>\n",
       "      <td>0.0</td>\n",
       "      <td>0.0</td>\n",
       "      <td>0.0</td>\n",
       "      <td>0.0</td>\n",
       "      <td>0.0</td>\n",
       "      <td>0.0</td>\n",
       "    </tr>\n",
       "  </tbody>\n",
       "</table>\n",
       "<p>5 rows × 28 columns</p>\n",
       "</div>"
      ],
      "text/plain": [
       "   treatment  y_factual  random        x1        x2        x3        x4  \\\n",
       "0          1   5.599916     1.0 -0.528603 -0.343455  1.128554  0.161703   \n",
       "1          0   6.875856     0.0 -1.736945 -1.802002  0.383828  2.244319   \n",
       "2          0   2.996273     1.0 -0.807451 -0.202946 -0.360898 -0.879606   \n",
       "3          0   1.366206     1.0  0.390083  0.596582 -1.850350 -0.879606   \n",
       "4          0   1.963538     0.0 -1.045228 -0.602710  0.011465  0.161703   \n",
       "\n",
       "         x5        x6   x7  ...  x16  x17  x18  x19  x20  x21  x22  x23  x24  \\\n",
       "0 -0.316603  1.295216  1.0  ...  1.0  1.0  1.0  1.0  0.0  0.0  0.0  0.0  0.0   \n",
       "1 -0.629189  1.295216  0.0  ...  1.0  1.0  1.0  1.0  0.0  0.0  0.0  0.0  0.0   \n",
       "2  0.808706 -0.526556  0.0  ...  1.0  0.0  1.0  1.0  0.0  0.0  0.0  0.0  0.0   \n",
       "3 -0.004017 -0.857787  0.0  ...  1.0  0.0  1.0  1.0  0.0  0.0  0.0  0.0  0.0   \n",
       "4  0.683672 -0.360940  1.0  ...  1.0  1.0  1.0  1.0  0.0  0.0  0.0  0.0  0.0   \n",
       "\n",
       "   x25  \n",
       "0  0.0  \n",
       "1  0.0  \n",
       "2  0.0  \n",
       "3  0.0  \n",
       "4  0.0  \n",
       "\n",
       "[5 rows x 28 columns]"
      ]
     },
     "metadata": {},
     "output_type": "display_data"
    }
   ],
   "source": [
    "# inspect the preprocessed dataset\n",
    "display(cd.data.head())"
   ]
  },
  {
   "attachments": {},
   "cell_type": "markdown",
   "id": "541e8ec6",
   "metadata": {
    "pycharm": {
     "name": "#%% md\n"
    }
   },
   "source": [
    "Fitting the model is as simple as calling `CausalTune.fit()`, with the only required parameter apart from the data being the amount of time you want to give the optimizer, either for the whole run (`time_budget`) or per FLAML component model (`components_time_budget`), or both.\n",
    "\n",
    "If you want to use specific estimators, comment in the `estimator_list` below to include any estimators whose full name contains any of the elements of `estimator_list`.\n",
    "\n",
    "The other allowed values are `all` and `auto`, the default is `auto`.\n"
   ]
  },
  {
   "cell_type": "code",
   "execution_count": 9,
   "id": "c819b518",
   "metadata": {},
   "outputs": [
    {
     "name": "stdout",
     "output_type": "stream",
     "text": [
      "ESTIMATOR:  SparseLinearDML\n",
      "Fitting a Propensity-Weighted scoring estimator to be used in scoring tasks\n",
      "Propensity Model Fitted Successfully\n",
      "Initial configs: [{'estimator': {'estimator_name': 'backdoor.econml.dml.SparseLinearDML', 'fit_cate_intercept': True, 'n_alphas': 100, 'n_alphas_cov': 10, 'tol': 0.0001, 'max_iter': 10000, 'mc_agg': 'mean'}}]\n",
      "erupt:  6.393658493049343\n",
      "norm_erupt:  2.7409015903034275\n",
      "prob_erupt:  1.3193877462077155\n",
      "COMPUTING FROBENIUS\n",
      "erupt:  6.411070231873237\n",
      "norm_erupt:  2.4116329260111513\n",
      "prob_erupt:  1.4773191485410653\n",
      "COMPUTING FROBENIUS\n",
      "erupt:  6.41312877389498\n",
      "norm_erupt:  2.663003477770225\n",
      "prob_erupt:  1.3820664211810072\n",
      "COMPUTING FROBENIUS\n",
      "erupt:  6.494774185419753\n",
      "norm_erupt:  2.3693207512571037\n",
      "prob_erupt:  1.491570871797483\n",
      "COMPUTING FROBENIUS\n",
      "---------------------\n",
      "Best estimator: backdoor.econml.dml.SparseLinearDML\n",
      "Best config: {'estimator': {'estimator_name': 'backdoor.econml.dml.SparseLinearDML', 'fit_cate_intercept': 1, 'n_alphas': 93, 'n_alphas_cov': 16, 'tol': 1.3599999999999999e-05, 'max_iter': 16600, 'mc_agg': 'median'}}\n",
      "Best score: 0.33399669804330046\n",
      "ESTIMATOR:  ForestDRLearner\n",
      "Fitting a Propensity-Weighted scoring estimator to be used in scoring tasks\n",
      "Propensity Model Fitted Successfully\n",
      "Initial configs: [{'estimator': {'estimator_name': 'backdoor.econml.dr.ForestDRLearner', 'min_propensity': 1e-06, 'n_estimators': 100, 'min_samples_split': 5, 'min_samples_leaf': 5, 'min_weight_fraction_leaf': 0.0, 'max_features': 'auto', 'min_impurity_decrease': 0.0, 'max_samples': 0.45, 'min_balancedness_tol': 0.45, 'honest': True, 'subforest_size': 4}}]\n",
      "erupt:  6.439208844656454\n",
      "norm_erupt:  2.8467798296333324\n",
      "prob_erupt:  1.7646466198955637\n",
      "COMPUTING FROBENIUS\n",
      "erupt:  6.411742145367337\n",
      "norm_erupt:  2.8730743121313775\n",
      "prob_erupt:  1.6842594078074704\n",
      "COMPUTING FROBENIUS\n",
      "erupt:  6.439208844656454\n",
      "norm_erupt:  2.8966785525795524\n",
      "prob_erupt:  1.6489417677108569\n",
      "COMPUTING FROBENIUS\n",
      "erupt:  6.411742145367337\n",
      "norm_erupt:  2.7589229330671707\n",
      "prob_erupt:  1.5669729069304446\n",
      "COMPUTING FROBENIUS\n",
      "---------------------\n",
      "Best estimator: backdoor.econml.dr.ForestDRLearner\n",
      "Best config: {'estimator': {'estimator_name': 'backdoor.econml.dr.ForestDRLearner', 'min_propensity': 1e-06, 'n_estimators': 100, 'min_samples_split': 5, 'min_samples_leaf': 5, 'min_weight_fraction_leaf': 0.0, 'max_features': 'auto', 'min_impurity_decrease': 0.0, 'max_samples': 0.45, 'min_balancedness_tol': 0.45, 'honest': 1, 'subforest_size': 4}}\n",
      "Best score: 0.3486442926898075\n",
      "ESTIMATOR:  TransformedOutcome\n",
      "Fitting a Propensity-Weighted scoring estimator to be used in scoring tasks\n",
      "Propensity Model Fitted Successfully\n",
      "Initial configs: [{'estimator': {'estimator_name': 'backdoor.causaltune.models.TransformedOutcome'}}]\n"
     ]
    }
   ],
   "source": [
    "estimator_list = [\n",
    "             \"SparseLinearDML\",\n",
    "             \"ForestDRLearner\",\n",
    "            \"TransformedOutcome\",\n",
    "            \"CausalForestDML\",\n",
    "            \".LinearDML\",\n",
    "            \"DomainAdaptationLearner\",\n",
    "            \"SLearner\",\n",
    "            \"XLearner\",\n",
    "            \"TLearner\",\n",
    "             #\"Ortho\",       \n",
    "    ]             \n",
    "\n",
    "# set evaluation metric\n",
    "metric = \"frobenius_norm\"\n",
    "\n",
    "# it's best to specify either time_budget or components_time_budget, \n",
    "# and let the other one be inferred; time in seconds\n",
    "time_budget = None\n",
    "components_time_budget = 10\n",
    "\n",
    "# specify training set size\n",
    "train_size = 0.7\n",
    "\n",
    "best_estimators = []\n",
    "best_configs = []\n",
    "best_scores = []\n",
    "\n",
    "for estimator in estimator_list:\n",
    "    print(\"ESTIMATOR: \", estimator)\n",
    "    ct = CausalTune(\n",
    "    estimator_list=[estimator],\n",
    "    metric=metric,\n",
    "    verbose=0,\n",
    "    components_verbose=0,\n",
    "    time_budget=time_budget,\n",
    "    components_time_budget=components_time_budget,\n",
    "    train_size=train_size\n",
    "    )\n",
    "    # run causaltune\n",
    "    ct.fit(data=cd, outcome=cd.outcomes[0])\n",
    "\n",
    "    best_estimators.append(ct.best_estimator)\n",
    "    best_configs.append(ct.best_config)\n",
    "    best_scores.append(ct.best_score)\n",
    "\n",
    "    print('---------------------')\n",
    "\n",
    "    # return best estimator\n",
    "    print(f\"Best estimator: {ct.best_estimator}\")\n",
    "    # config of best estimator:\n",
    "    print(f\"Best config: {ct.best_config}\")\n",
    "    # best score:\n",
    "    print(f\"Best score: {ct.best_score}\")"
   ]
  },
  {
   "cell_type": "code",
   "execution_count": 48,
   "id": "a6ca6879",
   "metadata": {},
   "outputs": [
    {
     "name": "stdout",
     "output_type": "stream",
     "text": [
      "['backdoor.econml.dml.SparseLinearDML', 'backdoor.econml.dr.ForestDRLearner', 'backdoor.causaltune.models.TransformedOutcome', 'backdoor.econml.dml.CausalForestDML', 'backdoor.econml.dml.LinearDML', 'backdoor.econml.metalearners.DomainAdaptationLearner', 'backdoor.econml.metalearners.SLearner', 'backdoor.econml.metalearners.XLearner', 'backdoor.econml.metalearners.TLearner']\n",
      "-------------------------------------------------\n",
      "[{'estimator': {'estimator_name': 'backdoor.econml.dml.SparseLinearDML', 'fit_cate_intercept': 1, 'n_alphas': 100, 'n_alphas_cov': 10, 'tol': 9.999999999999999e-05, 'max_iter': 10000, 'mc_agg': 'mean'}}, {'estimator': {'estimator_name': 'backdoor.econml.dr.ForestDRLearner', 'min_propensity': 1e-06, 'n_estimators': 100, 'min_samples_split': 5, 'min_samples_leaf': 5, 'min_weight_fraction_leaf': 0.0, 'max_features': 'auto', 'min_impurity_decrease': 0.0, 'max_samples': 0.45, 'min_balancedness_tol': 0.45, 'honest': 1, 'subforest_size': 4}}, {'estimator': {'estimator_name': 'backdoor.causaltune.models.TransformedOutcome'}}, {'estimator': {'estimator_name': 'backdoor.econml.dml.CausalForestDML', 'drate': 1, 'n_estimators': 100, 'criterion': 'mse', 'min_samples_split': 10, 'min_samples_leaf': 5, 'min_weight_fraction_leaf': 0.0, 'max_features': 'auto', 'min_impurity_decrease': 0.0, 'max_samples': 0.45, 'min_balancedness_tol': 0.45, 'honest': 1, 'fit_intercept': 1, 'subforest_size': 4}}, {'estimator': {'estimator_name': 'backdoor.econml.dml.LinearDML', 'fit_cate_intercept': 1, 'mc_agg': 'mean'}}, {'estimator': {'estimator_name': 'backdoor.econml.metalearners.DomainAdaptationLearner'}}, {'estimator': {'estimator_name': 'backdoor.econml.metalearners.SLearner'}}, {'estimator': {'estimator_name': 'backdoor.econml.metalearners.XLearner'}}, {'estimator': {'estimator_name': 'backdoor.econml.metalearners.TLearner'}}]\n",
      "-------------------------------------------------\n",
      "[0.95147941729695, 0.9104521939771015, 1.0209993595392686, 0.9059019536130315, 0.9648513240636594, 0.9422751033234631, 0.87350559122694, 0.9021172228567491, 0.996328857947023]\n"
     ]
    }
   ],
   "source": [
    "print(best_estimators)\n",
    "print(\"-------------------------------------------------\")\n",
    "print(best_configs)\n",
    "print(\"-------------------------------------------------\")\n",
    "print(best_scores)"
   ]
  },
  {
   "cell_type": "code",
   "execution_count": 39,
   "id": "6b6ebfde",
   "metadata": {},
   "outputs": [],
   "source": [
    "# training configs\n",
    "\n",
    "# choose estimators of interest\n",
    "estimator_list = [\n",
    "             #\"Dummy\",\n",
    "             #\"SparseLinearDML\",\n",
    "             #\"ForestDRLearner\",\n",
    "            \"TransformedOutcome\",\n",
    "            #\"CausalForestDML\",\n",
    "            # \".LinearDML\",\n",
    "            # \"DomainAdaptationLearner\",\n",
    "            #\"SLearner\",\n",
    "            #\"XLearner\",\n",
    "            # \"TLearner\",\n",
    "             #\"Ortho\"\n",
    "    ]\n",
    "\n",
    "# set evaluation metric\n",
    "metric = \"frobenius_norm\"\n",
    "\n",
    "# it's best to specify either time_budget or components_time_budget, \n",
    "# and let the other one be inferred; time in seconds\n",
    "time_budget = None\n",
    "components_time_budget = 30\n",
    "\n",
    "# specify training set size\n",
    "train_size = 0.7"
   ]
  },
  {
   "cell_type": "code",
   "execution_count": 38,
   "id": "e5abef7a",
   "metadata": {},
   "outputs": [
    {
     "name": "stdout",
     "output_type": "stream",
     "text": [
      "Fitting a Propensity-Weighted scoring estimator to be used in scoring tasks\n",
      "Propensity Model Fitted Successfully\n",
      "Initial configs: [{'estimator': {'estimator_name': 'backdoor.econml.dr.ForestDRLearner', 'min_propensity': 1e-06, 'n_estimators': 100, 'min_samples_split': 5, 'min_samples_leaf': 5, 'min_weight_fraction_leaf': 0.0, 'max_features': 'auto', 'min_impurity_decrease': 0.0, 'max_samples': 0.45, 'min_balancedness_tol': 0.45, 'honest': True, 'subforest_size': 4}}]\n",
      "score of <dowhy.causal_estimators.econml.Econml object at 0x3041f8f10> is: -0.0034758795028439014\n",
      "score of <dowhy.causal_estimators.econml.Econml object at 0x3041f8f10> is: 0.0\n",
      "score of <dowhy.causal_estimators.econml.Econml object at 0x17f868bb0> is: 0.0\n",
      "score of <dowhy.causal_estimators.econml.Econml object at 0x17f868bb0> is: 0.0\n",
      "---------------------\n",
      "Best estimator: backdoor.econml.dr.ForestDRLearner\n",
      "Best config: {'estimator': {'estimator_name': 'backdoor.econml.dr.ForestDRLearner', 'min_propensity': 1e-06, 'n_estimators': 100, 'min_samples_split': 5, 'min_samples_leaf': 5, 'min_weight_fraction_leaf': 0.0, 'max_features': 'auto', 'min_impurity_decrease': 0.0, 'max_samples': 0.45, 'min_balancedness_tol': 0.45, 'honest': 1, 'subforest_size': 4}}\n",
      "Best score: 0.9006839562449804\n"
     ]
    }
   ],
   "source": [
    "# create CausalTune() instance\n",
    "ct = CausalTune(\n",
    "    estimator_list=estimator_list,\n",
    "    metric=metric,\n",
    "    verbose=0,\n",
    "    components_verbose=0,\n",
    "    time_budget=time_budget,\n",
    "    components_time_budget=components_time_budget,\n",
    "    train_size=train_size\n",
    ")\n",
    "# run causaltune\n",
    "ct.fit(data=cd, outcome=cd.outcomes[0])\n",
    "# best estimator\n",
    "print(f\"Best estimator: {ct.best_estimator}\")\n",
    "# best score:\n",
    "print(f\"Best score: {ct.best_score}\")"
   ]
  },
  {
   "cell_type": "code",
   "execution_count": null,
   "id": "a56a393a",
   "metadata": {},
   "outputs": [],
   "source": [
    "import matplotlib.pyplot as plt\n",
    "import pickle\n",
    "import numpy as np\n",
    "\n",
    "metric = \"frobenius_norm\"  \n",
    "print(f\"{out_dir}{filename_out}_{metric}_run_1.pkl\")\n",
    "# Create a single plot instead of subplots\n",
    "fig, ax = plt.subplots(1, 1, figsize=(8, 8), dpi=300)\n",
    "\n",
    "# Load results for the single metric\n",
    "with open(f\"{out_dir}{filename_out}_{metric}_run_1.pkl\", \"rb\") as f:\n",
    "    results = pickle.load(f)\n",
    "\n",
    "\n",
    "#print(results[\"scores_per_estimator\"])\n",
    "\n",
    "#print(results[\"best_estimator\"])\n",
    "# Extract CATE ground truth and estimates\n",
    "CATE_gt = results[\"scores_per_estimator\"][results[\"best_estimator\"]][0][\"test\"][\"CATE_groundtruth\"]\n",
    "CATE_est = results[\"scores_per_estimator\"][results[\"best_estimator\"]][0][\"test\"][\"CATE_estimate\"]\n",
    "#print(CATE_est)\n",
    "\n",
    "sd_vals = []\n",
    "for el in CATE_est:\n",
    "    sd_vals.append(el[0])\n",
    "print(\"SD CATE_ests best model: \", np.std(sd_vals))\n",
    "\n",
    "# Plot the true against estimated CATE\n",
    "ax.scatter(CATE_gt, CATE_est, s=20, alpha=0.1)\n",
    "\n",
    "# Plot the identity line\n",
    "ax.plot([min(CATE_gt), max(CATE_gt)], [min(CATE_gt), max(CATE_gt)], \"k-\", linewidth=0.5)\n",
    "\n",
    "# Set labels and title\n",
    "ax.set_xlabel(\"true CATE\")\n",
    "ax.set_ylabel(\"estimated CATE\")\n",
    "ax.set_title(f\"{results['optimised_metric']}\")\n",
    "\n",
    "# Set ticks\n",
    "# ax.set_xticks(np.arange(-0.2, 0.21, 0.2))\n",
    "# ax.set_yticks(np.arange(-0.2, 0.21, 0.2))\n",
    "#ax.set_xlim([-0.2,0.2])\n",
    "#ax.set_ylim([-0.2,0.2])\n",
    "\n",
    "# Remove top and right spines\n",
    "ax.spines[\"top\"].set_visible(False)\n",
    "ax.spines[\"right\"].set_visible(False)\n",
    "\n",
    "# Adjust layout and save the figure\n",
    "plt.tight_layout()\n",
    "plt.savefig(f\"paper_{filename_out}_mse.pdf\", format=\"pdf\")"
   ]
  },
  {
   "cell_type": "code",
   "execution_count": 31,
   "id": "509de703",
   "metadata": {},
   "outputs": [
    {
     "data": {
      "text/plain": [
       "[<flaml.tune.trial_runner.SimpleTrial at 0x303b81e50>,\n",
       " <flaml.tune.trial_runner.SimpleTrial at 0x303958730>,\n",
       " <flaml.tune.trial_runner.SimpleTrial at 0x303bd8880>,\n",
       " <flaml.tune.trial_runner.SimpleTrial at 0x303c59850>,\n",
       " <flaml.tune.trial_runner.SimpleTrial at 0x3050652e0>,\n",
       " <flaml.tune.trial_runner.SimpleTrial at 0x303c59070>]"
      ]
     },
     "execution_count": 31,
     "metadata": {},
     "output_type": "execute_result"
    }
   ],
   "source": [
    "ct.results.trials"
   ]
  },
  {
   "cell_type": "code",
   "execution_count": 34,
   "id": "03b31b23",
   "metadata": {},
   "outputs": [
    {
     "ename": "AttributeError",
     "evalue": "'CausalTune' object has no attribute 'hold_out'",
     "output_type": "error",
     "traceback": [
      "\u001b[0;31m---------------------------------------------------------------------------\u001b[0m",
      "\u001b[0;31mAttributeError\u001b[0m                            Traceback (most recent call last)",
      "Cell \u001b[0;32mIn[34], line 2\u001b[0m\n\u001b[1;32m      1\u001b[0m \u001b[38;5;66;03m# compute relevant scores (skip newdummy)\u001b[39;00m\n\u001b[0;32m----> 2\u001b[0m datasets \u001b[38;5;241m=\u001b[39m {\u001b[38;5;124m\"\u001b[39m\u001b[38;5;124mtrain\u001b[39m\u001b[38;5;124m\"\u001b[39m: ct\u001b[38;5;241m.\u001b[39mtrain_df, \u001b[38;5;124m\"\u001b[39m\u001b[38;5;124mvalidation\u001b[39m\u001b[38;5;124m\"\u001b[39m: \u001b[43mct\u001b[49m\u001b[38;5;241;43m.\u001b[39;49m\u001b[43mhold_out\u001b[49m, \u001b[38;5;124m\"\u001b[39m\u001b[38;5;124mtest\u001b[39m\u001b[38;5;124m\"\u001b[39m: hold_out}\n\u001b[1;32m      3\u001b[0m \u001b[38;5;66;03m# get scores on train, val, test for each trial, \u001b[39;00m\n\u001b[1;32m      4\u001b[0m \u001b[38;5;66;03m# sort trials by validation set performance\u001b[39;00m\n\u001b[1;32m      5\u001b[0m \u001b[38;5;66;03m# assign trials to estimators\u001b[39;00m\n\u001b[1;32m      6\u001b[0m estimator_scores \u001b[38;5;241m=\u001b[39m {est: [] \u001b[38;5;28;01mfor\u001b[39;00m est \u001b[38;5;129;01min\u001b[39;00m ct\u001b[38;5;241m.\u001b[39mscores\u001b[38;5;241m.\u001b[39mkeys() \u001b[38;5;28;01mif\u001b[39;00m \u001b[38;5;124m\"\u001b[39m\u001b[38;5;124mNewDummy\u001b[39m\u001b[38;5;124m\"\u001b[39m \u001b[38;5;129;01mnot\u001b[39;00m \u001b[38;5;129;01min\u001b[39;00m est}\n",
      "\u001b[0;31mAttributeError\u001b[0m: 'CausalTune' object has no attribute 'hold_out'"
     ]
    }
   ],
   "source": [
    "\n",
    "\n",
    "# compute relevant scores (skip newdummy)\n",
    "datasets = {\"train\": ct.train_df, \"validation\": ct.hold_out, \"test\": hold_out}\n",
    "# get scores on train, val, test for each trial, \n",
    "# sort trials by validation set performance\n",
    "# assign trials to estimators\n",
    "estimator_scores = {est: [] for est in ct.scores.keys() if \"NewDummy\" not in est}\n",
    "\n",
    "for trial in ct.results.trials:\n",
    "    print(\"TRIAL: \", trial)\n",
    "    # estimator name:\n",
    "    estimator_name = trial.last_result[\"estimator_name\"]\n",
    "    if trial.last_result[\"estimator\"]:\n",
    "        estimator = trial.last_result[\"estimator\"]\n",
    "        scores = {}\n",
    "        for ds_name, df in datasets.items():\n",
    "            scores[ds_name] = {}\n",
    "            # make scores\n",
    "            est_scores = ct.scorer.make_scores(\n",
    "                estimator,\n",
    "                df,\n",
    "                metrics_to_report=ct.metrics_to_report,\n",
    "            )\n",
    "\n",
    "            # add cate:\n",
    "            scores[ds_name][\"CATE_estimate\"] = estimator.estimator.effect(df)\n",
    "            # add ground truth for convenience\n",
    "            scores[ds_name][\"CATE_groundtruth\"] = df[\"true_effect\"]\n",
    "            scores[ds_name][metric] = est_scores[metric]\n",
    "        estimator_scores[estimator_name].append(scores)\n",
    "\n",
    "# sort trials by validation performance\n",
    "for k in estimator_scores.keys():\n",
    "    estimator_scores[k] = sorted(\n",
    "        estimator_scores[k],\n",
    "        key=lambda x: x[\"validation\"][metric],\n",
    "        reverse=False if metric in [\"energy_distance\", \"psw_energy_distance\", \"frobenius_norm\", \"codec\"] else True,\n",
    "    )\n",
    "results = {\n",
    "    \"best_estimator\": ct.best_estimator,\n",
    "    \"best_config\": ct.best_config,\n",
    "    \"best_score\": ct.best_score,\n",
    "    \"optimised_metric\": metric,\n",
    "    \"scores_per_estimator\": estimator_scores,\n",
    "}"
   ]
  },
  {
   "cell_type": "markdown",
   "id": "7411b364",
   "metadata": {},
   "source": [
    "### ERUPT\n",
    "WARNING:dowhy.causal_model:Causal Graph not provided. DoWhy will construct a graph based on data inputs.\n",
    "INFO:flaml.tune.searcher.blendsearch:No low-cost partial config given to the search algorithm. For cost-frugal search, consider providing low-cost values for cost-related hps via 'low_cost_partial_config'. More info can be found at https://microsoft.github.io/FLAML/docs/FAQ\\#about-low_cost_partial_config-in-tune\n",
    "Fitting a Propensity-Weighted scoring estimator to be used in scoring tasks\n",
    "backdoor\n",
    "backdoor\n",
    "Initial configs: [{'estimator': {'estimator_name': 'backdoor.econml.dml.CausalForestDML', 'drate': True, 'n_estimators': 100, 'criterion': 'mse', 'min_samples_split': 10, 'min_samples_leaf': 5, 'min_weight_fraction_leaf': 0.0, 'max_features': 'auto', 'min_impurity_decrease': 0.0, 'max_samples': 0.45, 'min_balancedness_tol': 0.45, 'honest': True, 'fit_intercept': True, 'subforest_size': 4}}]\n",
    "\n",
    "Best estimator: backdoor.econml.dml.CausalForestDML\n",
    "Best config: {'estimator': {'estimator_name': 'backdoor.econml.dml.CausalForestDML', 'drate': 1, 'n_estimators': 100, 'criterion': 'mse', 'min_samples_split': 10, 'min_samples_leaf': 5, 'min_weight_fraction_leaf': 0.0, 'max_features': 'auto', 'min_impurity_decrease': 0.0, 'max_samples': 0.45, 'min_balancedness_tol': 0.45, 'honest': 1, 'fit_intercept': 1, 'subforest_size': 4}}\n",
    "Best score: 6.281017541826792"
   ]
  },
  {
   "cell_type": "markdown",
   "id": "8dad6601",
   "metadata": {},
   "source": [
    "### Probabilistic ERUPT\n",
    "\n",
    "WARNING:dowhy.causal_model:Causal Graph not provided. DoWhy will construct a graph based on data inputs.\n",
    "INFO:flaml.tune.searcher.blendsearch:No low-cost partial config given to the search algorithm. For cost-frugal search, consider providing low-cost values for cost-related hps via 'low_cost_partial_config'. More info can be found at https://microsoft.github.io/FLAML/docs/FAQ\\#about-low_cost_partial_config-in-tune\n",
    "Fitting a Propensity-Weighted scoring estimator to be used in scoring tasks\n",
    "backdoor\n",
    "backdoor\n",
    "Initial configs: [{'estimator': {'estimator_name': 'backdoor.econml.dml.CausalForestDML', 'drate': True, 'n_estimators': 100, 'criterion': 'mse', 'min_samples_split': 10, 'min_samples_leaf': 5, 'min_weight_fraction_leaf': 0.0, 'max_features': 'auto', 'min_impurity_decrease': 0.0, 'max_samples': 0.45, 'min_balancedness_tol': 0.45, 'honest': True, 'fit_intercept': True, 'subforest_size': 4}}]\n",
    "\n",
    "\n",
    "Best estimator: backdoor.econml.dml.CausalForestDML\n",
    "Best config: {'estimator': {'estimator_name': 'backdoor.econml.dml.CausalForestDML', 'drate': 1, 'n_estimators': 100, 'criterion': 'mse', 'min_samples_split': 10, 'min_samples_leaf': 5, 'min_weight_fraction_leaf': 0.0, 'max_features': 'auto', 'min_impurity_decrease': 0.0, 'max_samples': 0.45, 'min_balancedness_tol': 0.45, 'honest': 1, 'fit_intercept': 1, 'subforest_size': 4}}\n",
    "Best score: 4.273132956136449"
   ]
  },
  {
   "attachments": {},
   "cell_type": "markdown",
   "id": "08599fd9",
   "metadata": {
    "collapsed": false,
    "pycharm": {
     "name": "#%% md\n"
    }
   },
   "source": [
    "After running a fit, you also have the option resume it without losing past results, for example if you want to search over extra estimators. To do so, simply pass `resume=True` to the `fit` method as shown below: \n",
    "\n",
    "`ct.fit(data=cd,outcome=cd.outcomes[0],resume=True)`"
   ]
  },
  {
   "attachments": {},
   "cell_type": "markdown",
   "id": "b5f10b9b",
   "metadata": {},
   "source": [
    "We will now score all estimators on the hold-out test set and save the results per estimator in `ct.scores['test']`."
   ]
  },
  {
   "cell_type": "code",
   "execution_count": 28,
   "id": "d71cdd8e",
   "metadata": {
    "collapsed": false,
    "pycharm": {
     "name": "#%%\n"
    }
   },
   "outputs": [],
   "source": [
    "cd_hold_out = CausalityDataset(data=hold_out, treatment='treatment', outcomes=['y_factual'])\n",
    "cd_hold_out.preprocess_dataset()\n",
    "\n",
    "ct.score_dataset(df=cd_hold_out.data, dataset_name='test')"
   ]
  },
  {
   "attachments": {},
   "cell_type": "markdown",
   "id": "416910e8",
   "metadata": {},
   "source": [
    "Below we demonstrate some basic plotting functionality that comes with `CausalTune`. "
   ]
  },
  {
   "cell_type": "code",
   "execution_count": 29,
   "id": "93bc5191",
   "metadata": {},
   "outputs": [],
   "source": [
    "from causaltune.visualizer import Visualizer\n",
    "\n",
    "viz = Visualizer(\n",
    "    test_df=cd_hold_out.data,\n",
    "    treatment_col_name=cd.treatment,\n",
    "    outcome_col_name=cd.outcomes[0]\n",
    ")"
   ]
  },
  {
   "cell_type": "code",
   "execution_count": 30,
   "id": "353818ad",
   "metadata": {},
   "outputs": [
    {
     "data": {
      "image/png": "[encoded data removed]",
      "text/plain": [
       "<Figure size 700x500 with 1 Axes>"
      ]
     },
     "metadata": {},
     "output_type": "display_data"
    }
   ],
   "source": [
    "%matplotlib inline\n",
    "\n",
    "# plotting metrics by estimator\n",
    "\n",
    "figtitle = f'{viz.outcome_col_name}'\n",
    "figsize = (7,5)\n",
    "metrics = ('energy_distance', 'ate')\n",
    "\n",
    "viz.plot_metrics_by_estimator(\n",
    "    scores_dict=ct.scores,\n",
    "    metrics=metrics,\n",
    "    figtitle=figtitle,\n",
    "    figsize=figsize\n",
    ")"
   ]
  },
  {
   "cell_type": "code",
   "execution_count": 31,
   "id": "c0287e14",
   "metadata": {},
   "outputs": [
    {
     "ename": "ValueError",
     "evalue": "Unable to determine Axes to steal space for Colorbar. Either provide the *cax* argument to use as the Axes for the Colorbar, provide the *ax* argument to steal space from it, or add *mappable* to an Axes.",
     "output_type": "error",
     "traceback": [
      "\u001b[0;31m---------------------------------------------------------------------------\u001b[0m",
      "\u001b[0;31mValueError\u001b[0m                                Traceback (most recent call last)",
      "Cell \u001b[0;32mIn[31], line 11\u001b[0m\n\u001b[1;32m      8\u001b[0m est \u001b[38;5;241m=\u001b[39m ct\u001b[38;5;241m.\u001b[39mmodel\n\u001b[1;32m      9\u001b[0m figtitle \u001b[38;5;241m=\u001b[39m \u001b[38;5;124m'\u001b[39m\u001b[38;5;124mShapley feature importances\u001b[39m\u001b[38;5;124m'\u001b[39m\n\u001b[0;32m---> 11\u001b[0m \u001b[43mviz\u001b[49m\u001b[38;5;241;43m.\u001b[39;49m\u001b[43mplot_shap\u001b[49m\u001b[43m(\u001b[49m\n\u001b[1;32m     12\u001b[0m \u001b[43m    \u001b[49m\u001b[43mestimate\u001b[49m\u001b[38;5;241;43m=\u001b[39;49m\u001b[43mest\u001b[49m\u001b[43m,\u001b[49m\n\u001b[1;32m     13\u001b[0m \u001b[43m    \u001b[49m\u001b[43mdf\u001b[49m\u001b[38;5;241;43m=\u001b[39;49m\u001b[43muse_df\u001b[49m\u001b[43m,\u001b[49m\n\u001b[1;32m     14\u001b[0m \u001b[43m    \u001b[49m\u001b[43mfigtitle\u001b[49m\u001b[38;5;241;43m=\u001b[39;49m\u001b[43mfigtitle\u001b[49m\n\u001b[1;32m     15\u001b[0m \u001b[43m)\u001b[49m\n",
      "File \u001b[0;32m~/Documents/GitHub/causaltuneFORK/causaltune/visualizer.py:68\u001b[0m, in \u001b[0;36mVisualizer.plot_shap\u001b[0;34m(self, estimate, df, shaps, figtitle)\u001b[0m\n\u001b[1;32m     65\u001b[0m     sv \u001b[38;5;241m=\u001b[39m shaps\n\u001b[1;32m     67\u001b[0m plt\u001b[38;5;241m.\u001b[39mtitle(figtitle)\n\u001b[0;32m---> 68\u001b[0m \u001b[43mshap\u001b[49m\u001b[38;5;241;43m.\u001b[39;49m\u001b[43msummary_plot\u001b[49m\u001b[43m(\u001b[49m\u001b[43msv\u001b[49m\u001b[43m,\u001b[49m\u001b[43m \u001b[49m\u001b[43mdf\u001b[49m\u001b[43m[\u001b[49m\u001b[43mestimate\u001b[49m\u001b[38;5;241;43m.\u001b[39;49m\u001b[43mestimator\u001b[49m\u001b[38;5;241;43m.\u001b[39;49m\u001b[43m_input_names\u001b[49m\u001b[43m[\u001b[49m\u001b[38;5;124;43m\"\u001b[39;49m\u001b[38;5;124;43mfeature_names\u001b[39;49m\u001b[38;5;124;43m\"\u001b[39;49m\u001b[43m]\u001b[49m\u001b[43m]\u001b[49m\u001b[43m)\u001b[49m\n\u001b[1;32m     69\u001b[0m plt\u001b[38;5;241m.\u001b[39mshow()\n",
      "File \u001b[0;32m~/anaconda3/envs/CT-editing/lib/python3.9/site-packages/shap/plots/_beeswarm.py:865\u001b[0m, in \u001b[0;36msummary_legacy\u001b[0;34m(shap_values, features, feature_names, max_display, plot_type, color, axis_color, title, alpha, show, sort, color_bar, plot_size, layered_violin_max_num_bins, class_names, class_inds, color_bar_label, cmap, auto_size_plot, use_log_scale)\u001b[0m\n\u001b[1;32m    863\u001b[0m m \u001b[38;5;241m=\u001b[39m cm\u001b[38;5;241m.\u001b[39mScalarMappable(cmap\u001b[38;5;241m=\u001b[39mcmap \u001b[38;5;28;01mif\u001b[39;00m plot_type \u001b[38;5;241m!=\u001b[39m \u001b[38;5;124m\"\u001b[39m\u001b[38;5;124mlayered_violin\u001b[39m\u001b[38;5;124m\"\u001b[39m \u001b[38;5;28;01melse\u001b[39;00m pl\u001b[38;5;241m.\u001b[39mget_cmap(color))\n\u001b[1;32m    864\u001b[0m m\u001b[38;5;241m.\u001b[39mset_array([\u001b[38;5;241m0\u001b[39m, \u001b[38;5;241m1\u001b[39m])\n\u001b[0;32m--> 865\u001b[0m cb \u001b[38;5;241m=\u001b[39m \u001b[43mpl\u001b[49m\u001b[38;5;241;43m.\u001b[39;49m\u001b[43mcolorbar\u001b[49m\u001b[43m(\u001b[49m\u001b[43mm\u001b[49m\u001b[43m,\u001b[49m\u001b[43m \u001b[49m\u001b[43mticks\u001b[49m\u001b[38;5;241;43m=\u001b[39;49m\u001b[43m[\u001b[49m\u001b[38;5;241;43m0\u001b[39;49m\u001b[43m,\u001b[49m\u001b[43m \u001b[49m\u001b[38;5;241;43m1\u001b[39;49m\u001b[43m]\u001b[49m\u001b[43m,\u001b[49m\u001b[43m \u001b[49m\u001b[43maspect\u001b[49m\u001b[38;5;241;43m=\u001b[39;49m\u001b[38;5;241;43m80\u001b[39;49m\u001b[43m)\u001b[49m\n\u001b[1;32m    866\u001b[0m cb\u001b[38;5;241m.\u001b[39mset_ticklabels([labels[\u001b[38;5;124m'\u001b[39m\u001b[38;5;124mFEATURE_VALUE_LOW\u001b[39m\u001b[38;5;124m'\u001b[39m], labels[\u001b[38;5;124m'\u001b[39m\u001b[38;5;124mFEATURE_VALUE_HIGH\u001b[39m\u001b[38;5;124m'\u001b[39m]])\n\u001b[1;32m    867\u001b[0m cb\u001b[38;5;241m.\u001b[39mset_label(color_bar_label, size\u001b[38;5;241m=\u001b[39m\u001b[38;5;241m12\u001b[39m, labelpad\u001b[38;5;241m=\u001b[39m\u001b[38;5;241m0\u001b[39m)\n",
      "File \u001b[0;32m~/anaconda3/envs/CT-editing/lib/python3.9/site-packages/matplotlib/pyplot.py:2430\u001b[0m, in \u001b[0;36mcolorbar\u001b[0;34m(mappable, cax, ax, **kwargs)\u001b[0m\n\u001b[1;32m   2425\u001b[0m     \u001b[38;5;28;01mif\u001b[39;00m mappable \u001b[38;5;129;01mis\u001b[39;00m \u001b[38;5;28;01mNone\u001b[39;00m:\n\u001b[1;32m   2426\u001b[0m         \u001b[38;5;28;01mraise\u001b[39;00m \u001b[38;5;167;01mRuntimeError\u001b[39;00m(\u001b[38;5;124m'\u001b[39m\u001b[38;5;124mNo mappable was found to use for colorbar \u001b[39m\u001b[38;5;124m'\u001b[39m\n\u001b[1;32m   2427\u001b[0m                            \u001b[38;5;124m'\u001b[39m\u001b[38;5;124mcreation. First define a mappable such as \u001b[39m\u001b[38;5;124m'\u001b[39m\n\u001b[1;32m   2428\u001b[0m                            \u001b[38;5;124m'\u001b[39m\u001b[38;5;124man image (with imshow) or a contour set (\u001b[39m\u001b[38;5;124m'\u001b[39m\n\u001b[1;32m   2429\u001b[0m                            \u001b[38;5;124m'\u001b[39m\u001b[38;5;124mwith contourf).\u001b[39m\u001b[38;5;124m'\u001b[39m)\n\u001b[0;32m-> 2430\u001b[0m ret \u001b[38;5;241m=\u001b[39m \u001b[43mgcf\u001b[49m\u001b[43m(\u001b[49m\u001b[43m)\u001b[49m\u001b[38;5;241;43m.\u001b[39;49m\u001b[43mcolorbar\u001b[49m\u001b[43m(\u001b[49m\u001b[43mmappable\u001b[49m\u001b[43m,\u001b[49m\u001b[43m \u001b[49m\u001b[43mcax\u001b[49m\u001b[38;5;241;43m=\u001b[39;49m\u001b[43mcax\u001b[49m\u001b[43m,\u001b[49m\u001b[43m \u001b[49m\u001b[43max\u001b[49m\u001b[38;5;241;43m=\u001b[39;49m\u001b[43max\u001b[49m\u001b[43m,\u001b[49m\u001b[43m \u001b[49m\u001b[38;5;241;43m*\u001b[39;49m\u001b[38;5;241;43m*\u001b[39;49m\u001b[43mkwargs\u001b[49m\u001b[43m)\u001b[49m\n\u001b[1;32m   2431\u001b[0m \u001b[38;5;28;01mreturn\u001b[39;00m ret\n",
      "File \u001b[0;32m~/anaconda3/envs/CT-editing/lib/python3.9/site-packages/matplotlib/figure.py:1213\u001b[0m, in \u001b[0;36mFigureBase.colorbar\u001b[0;34m(self, mappable, cax, ax, use_gridspec, **kwargs)\u001b[0m\n\u001b[1;32m   1211\u001b[0m \u001b[38;5;28;01mif\u001b[39;00m cax \u001b[38;5;129;01mis\u001b[39;00m \u001b[38;5;28;01mNone\u001b[39;00m:\n\u001b[1;32m   1212\u001b[0m     \u001b[38;5;28;01mif\u001b[39;00m ax \u001b[38;5;129;01mis\u001b[39;00m \u001b[38;5;28;01mNone\u001b[39;00m:\n\u001b[0;32m-> 1213\u001b[0m         \u001b[38;5;28;01mraise\u001b[39;00m \u001b[38;5;167;01mValueError\u001b[39;00m(\n\u001b[1;32m   1214\u001b[0m             \u001b[38;5;124m'\u001b[39m\u001b[38;5;124mUnable to determine Axes to steal space for Colorbar. \u001b[39m\u001b[38;5;124m'\u001b[39m\n\u001b[1;32m   1215\u001b[0m             \u001b[38;5;124m'\u001b[39m\u001b[38;5;124mEither provide the *cax* argument to use as the Axes for \u001b[39m\u001b[38;5;124m'\u001b[39m\n\u001b[1;32m   1216\u001b[0m             \u001b[38;5;124m'\u001b[39m\u001b[38;5;124mthe Colorbar, provide the *ax* argument to steal space \u001b[39m\u001b[38;5;124m'\u001b[39m\n\u001b[1;32m   1217\u001b[0m             \u001b[38;5;124m'\u001b[39m\u001b[38;5;124mfrom it, or add *mappable* to an Axes.\u001b[39m\u001b[38;5;124m'\u001b[39m)\n\u001b[1;32m   1218\u001b[0m     fig \u001b[38;5;241m=\u001b[39m (  \u001b[38;5;66;03m# Figure of first Axes; logic copied from make_axes.\u001b[39;00m\n\u001b[1;32m   1219\u001b[0m         [\u001b[38;5;241m*\u001b[39max\u001b[38;5;241m.\u001b[39mflat] \u001b[38;5;28;01mif\u001b[39;00m \u001b[38;5;28misinstance\u001b[39m(ax, np\u001b[38;5;241m.\u001b[39mndarray)\n\u001b[1;32m   1220\u001b[0m         \u001b[38;5;28;01melse\u001b[39;00m [\u001b[38;5;241m*\u001b[39max] \u001b[38;5;28;01mif\u001b[39;00m np\u001b[38;5;241m.\u001b[39miterable(ax)\n\u001b[1;32m   1221\u001b[0m         \u001b[38;5;28;01melse\u001b[39;00m [ax])[\u001b[38;5;241m0\u001b[39m]\u001b[38;5;241m.\u001b[39mfigure\n\u001b[1;32m   1222\u001b[0m     current_ax \u001b[38;5;241m=\u001b[39m fig\u001b[38;5;241m.\u001b[39mgca()\n",
      "\u001b[0;31mValueError\u001b[0m: Unable to determine Axes to steal space for Colorbar. Either provide the *cax* argument to use as the Axes for the Colorbar, provide the *ax* argument to steal space from it, or add *mappable* to an Axes."
     ]
    },
    {
     "data": {
      "image/png": "[encoded data removed]",
      "text/plain": [
       "<Figure size 800x950 with 1 Axes>"
      ]
     },
     "metadata": {},
     "output_type": "display_data"
    }
   ],
   "source": [
    "%matplotlib inline\n",
    "\n",
    "# plotting shapley feature importances\n",
    "# sampling from test_df as calculation can take a while\n",
    "# optional: supply pre-computed shapley values by passing them as shaps=your_array\n",
    "\n",
    "use_df = cd_hold_out.data.sample(100)\n",
    "est = ct.model\n",
    "figtitle = 'Shapley feature importances'\n",
    "\n",
    "viz.plot_shap(\n",
    "    estimate=est,\n",
    "    df=use_df,\n",
    "    figtitle=figtitle\n",
    ")"
   ]
  },
  {
   "cell_type": "code",
   "execution_count": 40,
   "id": "98d7921e",
   "metadata": {},
   "outputs": [
    {
     "data": {
      "image/png": "[encoded data removed]",
      "text/plain": [
       "<Figure size 640x480 with 1 Axes>"
      ]
     },
     "metadata": {},
     "output_type": "display_data"
    }
   ],
   "source": [
    "%matplotlib inline\n",
    "\n",
    "# plotting out-of sample difference of outcomes between treated and untreated \n",
    "# for the points where model predicts positive vs negative impact\n",
    "\n",
    "viz.plot_group_ate(\n",
    "    scorer=ct.scorer,\n",
    "    scores_dict=ct.scores,\n",
    "    estimator=ct.best_estimator\n",
    ")"
   ]
  },
  {
   "attachments": {},
   "cell_type": "markdown",
   "id": "e2ccdd51",
   "metadata": {},
   "source": [
    "## Custom outcome model\n",
    "\n",
    "We also allow the user to supply a custom outcome model during training. The below example demonstrates how to use a simple linear model as outcome model. We use the same training dataset as above.\n",
    "\n",
    "Note that you can pass any arbitrary object that has `fit()` and `predict()` methods implemented to `outcome_model`. "
   ]
  },
  {
   "cell_type": "code",
   "execution_count": 16,
   "id": "e14ad3f9",
   "metadata": {},
   "outputs": [
    {
     "name": "stdout",
     "output_type": "stream",
     "text": [
      "Fitting a Propensity-Weighted scoring estimator to be used in scoring tasks\n",
      "Initial configs: [{'estimator': {'estimator_name': 'backdoor.econml.metalearners.SLearner'}}, {'estimator': {'estimator_name': 'backdoor.econml.metalearners.XLearner'}}, {'estimator': {'estimator_name': 'backdoor.econml.dml.CausalForestDML', 'drate': True, 'n_estimators': 100, 'criterion': 'mse', 'min_samples_split': 10, 'min_samples_leaf': 5, 'min_weight_fraction_leaf': 0.0, 'max_features': 'auto', 'min_impurity_decrease': 0.0, 'max_samples': 0.45, 'min_balancedness_tol': 0.45, 'honest': True, 'fit_intercept': True, 'subforest_size': 4}}]\n",
      "---------------------\n",
      "Best estimator: backdoor.econml.metalearners.XLearner\n",
      "Best config: {'estimator': {'estimator_name': 'backdoor.econml.metalearners.XLearner'}}\n",
      "Best score: 0.2086960231613526\n"
     ]
    }
   ],
   "source": [
    "from sklearn.linear_model import LinearRegression\n",
    "\n",
    "ct = CausalTune(\n",
    "    outcome_model=LinearRegression(),\n",
    "    estimator_list=estimator_list,\n",
    "    metric=metric,\n",
    "    verbose=0,\n",
    "    components_verbose=0,\n",
    "    time_budget=time_budget,\n",
    "    components_time_budget=components_time_budget,\n",
    "    train_size=train_size\n",
    ")\n",
    "\n",
    "\n",
    "# run causaltune\n",
    "ct.fit(data=cd, outcome=cd.outcomes[0])\n",
    "\n",
    "print('---------------------')\n",
    "# return best estimator\n",
    "print(f\"Best estimator: {ct.best_estimator}\")\n",
    "# config of best estimator:\n",
    "print(f\"Best config: {ct.best_config}\")\n",
    "# best score:\n",
    "print(f\"Best score: {ct.best_score}\")"
   ]
  }
 ],
 "metadata": {
  "kernelspec": {
   "display_name": "causality",
   "language": "python",
   "name": "python3"
  },
  "language_info": {
   "codemirror_mode": {
    "name": "ipython",
    "version": 3
   },
   "file_extension": ".py",
   "mimetype": "text/x-python",
   "name": "python",
   "nbconvert_exporter": "python",
   "pygments_lexer": "ipython3",
   "version": "3.9.18"
  }
 },
 "nbformat": 4,
 "nbformat_minor": 5
}
